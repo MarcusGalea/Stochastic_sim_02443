{
 "cells": [
  {
   "cell_type": "code",
   "execution_count": null,
   "metadata": {},
   "outputs": [],
   "source": []
  },
  {
   "cell_type": "markdown",
   "metadata": {},
   "source": [
    "# Discrete Event Simulator"
   ]
  },
  {
   "cell_type": "markdown",
   "metadata": {},
   "source": [
    "## Part 1"
   ]
  },
  {
   "cell_type": "code",
   "execution_count": 10,
   "metadata": {},
   "outputs": [
    {
     "ename": "ValueError",
     "evalue": "operands could not be broadcast together with shapes (10000,) (2,) ",
     "output_type": "error",
     "traceback": [
      "\u001b[1;31m---------------------------------------------------------------------------\u001b[0m",
      "\u001b[1;31mValueError\u001b[0m                                Traceback (most recent call last)",
      "Cell \u001b[1;32mIn[10], line 2\u001b[0m\n\u001b[0;32m      1\u001b[0m \u001b[38;5;28;01mfrom\u001b[39;00m \u001b[38;5;21;01mdistributions\u001b[39;00m \u001b[38;5;28;01mimport\u001b[39;00m \u001b[38;5;241m*\u001b[39m\n\u001b[1;32m----> 2\u001b[0m \u001b[38;5;28mprint\u001b[39m(\u001b[43mgetExponential\u001b[49m\u001b[43m(\u001b[49m\u001b[43m[\u001b[49m\u001b[38;5;241;43m1\u001b[39;49m\u001b[43m,\u001b[49m\u001b[38;5;241;43m1\u001b[39;49m\u001b[43m]\u001b[49m\u001b[43m)\u001b[49m)\n",
      "File \u001b[1;32mc:\\Stochastic_sim_02443\\Lucas\\distributions.py:8\u001b[0m, in \u001b[0;36mgetExponential\u001b[1;34m(lam, n)\u001b[0m\n\u001b[0;32m      6\u001b[0m \u001b[38;5;28;01mdef\u001b[39;00m \u001b[38;5;21mgetExponential\u001b[39m(parms):\n\u001b[0;32m      7\u001b[0m     lam \u001b[38;5;241m=\u001b[39m parms[\u001b[38;5;241m0\u001b[39m]\n\u001b[1;32m----> 8\u001b[0m     n \u001b[38;5;241m=\u001b[39m parms[\u001b[38;5;241m1\u001b[39m]\n\u001b[0;32m      9\u001b[0m     Us \u001b[38;5;241m=\u001b[39m rnd\u001b[38;5;241m.\u001b[39mrand(n)\n\u001b[0;32m     10\u001b[0m     \u001b[38;5;28;01mreturn\u001b[39;00m \u001b[38;5;241m-\u001b[39m np\u001b[38;5;241m.\u001b[39mlog(Us) \u001b[38;5;241m/\u001b[39m lam\n",
      "\u001b[1;31mValueError\u001b[0m: operands could not be broadcast together with shapes (10000,) (2,) "
     ]
    }
   ],
   "source": [
    "from distributions import *\n",
    "\n",
    "\n"
   ]
  },
  {
   "cell_type": "code",
   "execution_count": null,
   "metadata": {},
   "outputs": [],
   "source": [
    "print(getExponential([1,1]))"
   ]
  },
  {
   "cell_type": "code",
   "execution_count": 283,
   "metadata": {},
   "outputs": [
    {
     "ename": "TypeError",
     "evalue": "insort_right() missing required argument 'x' (pos 2)",
     "output_type": "error",
     "traceback": [
      "\u001b[1;31m---------------------------------------------------------------------------\u001b[0m",
      "\u001b[1;31mTypeError\u001b[0m                                 Traceback (most recent call last)",
      "Cell \u001b[1;32mIn[283], line 92\u001b[0m\n\u001b[0;32m     90\u001b[0m arrival \u001b[38;5;241m=\u001b[39m event(time,distributions, \u001b[38;5;124m'\u001b[39m\u001b[38;5;124ma\u001b[39m\u001b[38;5;124m'\u001b[39m)\n\u001b[0;32m     91\u001b[0m ts \u001b[38;5;241m+\u001b[39m\u001b[38;5;241m=\u001b[39m arrival\u001b[38;5;241m.\u001b[39mt\n\u001b[1;32m---> 92\u001b[0m event_list \u001b[38;5;241m=\u001b[39m \u001b[43minsertInEventList\u001b[49m\u001b[43m(\u001b[49m\u001b[43marrival\u001b[49m\u001b[43m,\u001b[49m\u001b[43m \u001b[49m\u001b[43mevent_list\u001b[49m\u001b[43m)\u001b[49m\n\u001b[0;32m     93\u001b[0m e \u001b[38;5;241m=\u001b[39m event_list[\u001b[38;5;241m0\u001b[39m]\n\u001b[0;32m     94\u001b[0m \u001b[38;5;28;01mif\u001b[39;00m e\u001b[38;5;241m.\u001b[39mtime \u001b[38;5;241m<\u001b[39m time:\n",
      "Cell \u001b[1;32mIn[283], line 31\u001b[0m, in \u001b[0;36minsertInEventList\u001b[1;34m(event, event_list)\u001b[0m\n\u001b[0;32m     29\u001b[0m     next_event \u001b[38;5;241m=\u001b[39m event_list[idx]\n\u001b[0;32m     30\u001b[0m \u001b[38;5;66;03m#print(event.time, next_event.time)\u001b[39;00m\n\u001b[1;32m---> 31\u001b[0m \u001b[38;5;28;01mreturn\u001b[39;00m \u001b[43mbisect\u001b[49m\u001b[38;5;241;43m.\u001b[39;49m\u001b[43minsort\u001b[49m\u001b[43m(\u001b[49m\u001b[43m \u001b[49m\u001b[43m(\u001b[49m\u001b[43mnp\u001b[49m\u001b[38;5;241;43m.\u001b[39;49m\u001b[43minsert\u001b[49m\u001b[43m(\u001b[49m\u001b[43mevent_list\u001b[49m\u001b[43m,\u001b[49m\u001b[43m \u001b[49m\u001b[43midx\u001b[49m\u001b[43m,\u001b[49m\u001b[43m \u001b[49m\u001b[43mevent\u001b[49m\u001b[43m)\u001b[49m\u001b[43m)\u001b[49m\u001b[43m,\u001b[49m\u001b[43m \u001b[49m\u001b[43mkey\u001b[49m\u001b[38;5;241;43m=\u001b[39;49m\u001b[43m \u001b[49m\u001b[38;5;28;43;01mlambda\u001b[39;49;00m\u001b[43m \u001b[49m\u001b[43mx\u001b[49m\u001b[43m:\u001b[49m\u001b[43m \u001b[49m\u001b[43mx\u001b[49m\u001b[38;5;241;43m.\u001b[39;49m\u001b[43mtime\u001b[49m\u001b[43m)\u001b[49m\n",
      "\u001b[1;31mTypeError\u001b[0m: insort_right() missing required argument 'x' (pos 2)"
     ]
    }
   ],
   "source": [
    "import numpy as np\n",
    "from distributions import *\n",
    "import scipy.stats as stats\n",
    "\n",
    "class dists:\n",
    "    def __init__(self, arrival_dist, arrival_dist_parms, leave_dist, leave_dist_parms):\n",
    "        self.arrival_dist = arrival_dist\n",
    "        self.arrival_dist_parms = arrival_dist_parms\n",
    "        self.leave_dist = leave_dist\n",
    "        self.leave_dist_parms = leave_dist_parms\n",
    "\n",
    "class event:\n",
    "    def __init__(self, time, dists: dists, state):\n",
    "        if state == 'a':\n",
    "            self.t = dists.arrival_dist(dists.arrival_dist_parms)[0]\n",
    "            self.time = time + self.t\n",
    "        elif state == 'l':\n",
    "            self.t = dists.leave_dist(dists.leave_dist_parms)[0]\n",
    "            self.time = time + self.t\n",
    "        self.state = state\n",
    "\n",
    "\n",
    "def insertInEventList(event, event_list):\n",
    "    idx = 0\n",
    "    next_event = event_list[0]\n",
    "    while next_event.time < event.time:\n",
    "        idx += 1\n",
    "        next_event = event_list[idx]\n",
    "    #print(event.time, next_event.time)\n",
    "    return np.insert(event_list, idx, event)\n",
    "\n",
    "m = 10\n",
    "\n",
    "time = 0\n",
    "k = 10000\n",
    "n = 10\n",
    "\n",
    "\n",
    "arrival_lambda = 1\n",
    "leave_lambda = 1/8\n",
    "\n",
    "# distributions = dists(getExponential, [arrival_lambda, 1], getExponential, [leave_lambda, 1])\n",
    "distributions = dists(getExponential, [arrival_lambda,1], getExponential, [leave_lambda, 1])\n",
    "\n",
    "blocked_arr = np.array([m]*10)\n",
    "\n",
    "time = 0\n",
    "blocked = 0\n",
    "nonblocked = 0\n",
    "num_customers = 0\n",
    "service_points = np.array([0] * m)\n",
    "event_list = np.array([event(np.inf, distributions, 'l')])\n",
    "num_left = 0\n",
    "ts = 0\n",
    "ts2 = 0\n",
    "\n",
    "arrival_times = np.zeros(k)\n",
    "service_times = np.zeros(k)\n",
    "for i in range (k):\n",
    "    e = event(0, distributions, 'a')\n",
    "    arrival_times[i] = e.time\n",
    "    e = event(0, distributions, 'l')\n",
    "    service_times[i] = e.time\n",
    "\n",
    "arrival_times = np.cumsum(arrival_times)\n",
    "#service_times = np.cumsum(service_times)\n",
    "\n",
    "arrivalsCount = 0\n",
    "servicesCount = 0\n",
    "# Run simulation untill \n",
    "\n",
    "# while num_customers < k:\n",
    "#     time = arrival_times[arrivalsCount]\n",
    "#     arrivalsCount += 1\n",
    "#     service_points[service_points < time] = 0\n",
    "#     # print(service_points)\n",
    "#     if any(service_points == 0):\n",
    "#         service_points[np.argmin(service_points)] = time + service_times[servicesCount]\n",
    "#         servicesCount += 1\n",
    "#     else:\n",
    "#         blocked += 1\n",
    "#     num_customers += 1\n",
    "\n",
    "# print(blocked)    \n",
    "\n",
    "# print(\"Hej\")\n",
    "\n",
    "while num_customers < k:\n",
    "    arrival = event(time,distributions, 'a')\n",
    "    ts += arrival.t\n",
    "    event_list = insertInEventList(arrival, event_list)\n",
    "    e = event_list[0]\n",
    "    if e.time < time:\n",
    "        print(\"FUCK\")\n",
    "\n",
    "    time = e.time\n",
    "\n",
    "    #print(f\"Tiden er {time}\")\n",
    "    event_list = np.delete(event_list, 0)\n",
    "\n",
    "    if e.state == 'a':  # A customer has arrivel\n",
    "        if any(service_points < time):    # Customer is serviced\n",
    "            leave = event(time, distributions, 'l')\n",
    "            service_points[np.argmin(service_points)] = time + leave.t\n",
    "            ts2 += leave.t\n",
    "            #event_list = insertInEventList(leave, event_list)\n",
    "            nonblocked += 1\n",
    "        else:   # Customer is blocked\n",
    "            blocked += 1\n",
    "        num_customers += 1\n",
    "    else:\n",
    "        num_left += 1\n",
    "        service_points[np.argmax(service_points)] = 0\n",
    "\n",
    "    #print(time)\n",
    "    \n",
    "    # if num_customers % 100 == 0:\n",
    "    #     liste = []\n",
    "    #     for e in event_list:\n",
    "    #         liste.append(e.state)\n",
    "    #     print(liste)\n",
    "\n",
    "# blocked = blocked\n",
    "\n",
    "    #blocked_arr[i] = blocked"
   ]
  },
  {
   "cell_type": "code",
   "execution_count": 282,
   "metadata": {},
   "outputs": [
    {
     "name": "stdout",
     "output_type": "stream",
     "text": [
      "1044\n",
      "8956\n",
      "0\n",
      "9987.028565120749\n",
      "9987.028565120749\n",
      "71893.50851919886\n",
      "5090.146452367736\n",
      "7.938417898217804\n"
     ]
    }
   ],
   "source": [
    "print(blocked)\n",
    "print(nonblocked)\n",
    "print(num_left)\n",
    "print(time)\n",
    "print(ts)\n",
    "print(ts2)\n",
    "\n",
    "print(np.mean(arrival_times))\n",
    "print(np.mean(service_times))"
   ]
  },
  {
   "cell_type": "markdown",
   "metadata": {},
   "source": [
    "## Erlangs Solution"
   ]
  },
  {
   "cell_type": "code",
   "execution_count": 56,
   "metadata": {},
   "outputs": [
    {
     "name": "stdout",
     "output_type": "stream",
     "text": [
      "0.13851266214160918\n"
     ]
    }
   ],
   "source": [
    "import math as math\n",
    "lam = 1\n",
    "s = 8\n",
    "A = lam * s\n",
    "\n",
    "S = 0\n",
    "for i in range (m):\n",
    "    S += A**i / math.factorial(i)\n",
    "B = (A**m ) / math.factorial(m) / (S)\n",
    "\n",
    "print(B)"
   ]
  },
  {
   "cell_type": "code",
   "execution_count": 145,
   "metadata": {},
   "outputs": [
    {
     "data": {
      "image/png": "[encoded data removed]",
      "text/plain": [
       "<Figure size 640x480 with 1 Axes>"
      ]
     },
     "metadata": {},
     "output_type": "display_data"
    }
   ],
   "source": [
    "import matplotlib.pyplot as plt\n",
    "arr = getExponential([arrival_lambda, 10000])\n",
    "plt.hist(arr, bins = 20)\n",
    "plt.show()\n",
    "\n"
   ]
  },
  {
   "cell_type": "code",
   "execution_count": 128,
   "metadata": {},
   "outputs": [
    {
     "data": {
      "image/png": "[encoded data removed]",
      "text/plain": [
       "<Figure size 640x480 with 1 Axes>"
      ]
     },
     "metadata": {},
     "output_type": "display_data"
    }
   ],
   "source": [
    "\n",
    "arr2 = getExponential([leave_lambda, 10000])\n",
    "plt.hist(arr2, bins = 20)\n",
    "plt.show()"
   ]
  },
  {
   "cell_type": "code",
   "execution_count": 234,
   "metadata": {},
   "outputs": [
    {
     "name": "stdout",
     "output_type": "stream",
     "text": [
      "898\n",
      "46.83097348908611\n"
     ]
    }
   ],
   "source": [
    "m = 10\n",
    "n = 10\n",
    "k = 10000\n",
    "\n",
    "\n",
    "\n",
    "time = 0\n",
    "ts = 0\n",
    "event_list = np.array([event(np.inf, distributions, 'l')])\n",
    "service_points = np.array([0]*m)\n",
    "\n",
    "blocked = 0\n",
    "num_customers = 0\n",
    "tid = 0\n",
    "\n",
    "count = 0\n",
    "for i in range(1000):\n",
    "    arrival = event(tid,distributions, 'a')\n",
    "    event_list = insertInEventList(arrival, event_list)\n",
    "\n",
    "    e = event_list[count]\n",
    "    count += 1\n",
    "    time = e.time\n",
    "    tid = time\n",
    "\n",
    "    if e.state == 'a':\n",
    "        if any(service_points == 0):\n",
    "            service_points[np.argmin(service_points)] = 1\n",
    "\n",
    "            leave = event(tid, distributions, 'l')\n",
    "            event_list = insertInEventList(leave, event_list)\n",
    "        else:\n",
    "            blocked += 1\n",
    "        num_customers += 1\n",
    "    else:\n",
    "        service_points[np.argmax(service_points)] = 0\n",
    "\n",
    "print(blocked)\n",
    "print(tid)\n",
    "\n",
    "time = -1\n",
    "for ev in event_list:\n",
    "    if ev.time < time:\n",
    "        print(\"Lucas har fucket up\")\n",
    "    time = ev.time"
   ]
  }
 ],
 "metadata": {
  "kernelspec": {
   "display_name": "Python 3",
   "language": "python",
   "name": "python3"
  },
  "language_info": {
   "codemirror_mode": {
    "name": "ipython",
    "version": 3
   },
   "file_extension": ".py",
   "mimetype": "text/x-python",
   "name": "python",
   "nbconvert_exporter": "python",
   "pygments_lexer": "ipython3",
   "version": "3.10.11"
  }
 },
 "nbformat": 4,
 "nbformat_minor": 2
}
