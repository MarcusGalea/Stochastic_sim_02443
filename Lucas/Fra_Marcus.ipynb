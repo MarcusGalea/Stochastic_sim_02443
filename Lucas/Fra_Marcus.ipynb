{
 "cells": [
  {
   "cell_type": "markdown",
   "metadata": {},
   "source": [
    "# Exercise 4\n",
    "Write a discrete event simulation program for a blocking system,\n",
    "i.e. a system with m service units and no waiting room. The offered\n",
    "traffic A is the product of the mean arrival rate and the mean\n",
    "service time\n",
    "## 1\n",
    "The arrival process is modelled as a Poisson process. Report the\n",
    "fraction of blocked customers, and a confidence interval for this\n",
    "fraction. Choose the service time distribution as exponential.\n",
    "Parameters: m = 10, mean service time = 8 time units, mean\n",
    "time between customers = 1 time unit (corresponding to an\n",
    "offered traffic of 8 Erlang), 10 x 10.000 customers.\n"
   ]
  },
  {
   "cell_type": "code",
   "execution_count": 1,
   "metadata": {},
   "outputs": [],
   "source": [
    "import numpy as np\n",
    "#import poission\n",
    "import math\n",
    "from scipy.stats import poisson\n",
    "#import exponential\n",
    "from scipy.stats import expon\n",
    "import bisect"
   ]
  },
  {
   "cell_type": "code",
   "execution_count": 2,
   "metadata": {},
   "outputs": [],
   "source": [
    "m = 10 #number of servers\n",
    "s = 8 #mean service time\n",
    "lam = 1#arrival_intensity\n",
    "total_customers =10000 #10*10000\n",
    "A = lam*s"
   ]
  },
  {
   "cell_type": "code",
   "execution_count": 3,
   "metadata": {},
   "outputs": [],
   "source": [
    "class Customer:\n",
    "    def __init__(self, arrival_time, service_time):\n",
    "        self.service_time = service_time\n",
    "        self.blocked = False\n",
    "        \n",
    "        self.event = \"arrival\"\n",
    "        self.event_time = arrival_time\n",
    "      \n",
    "                \n",
    "    def arrive(self, servers, event_list):\n",
    "        if servers < 1:\n",
    "            self.blocked = True\n",
    "            return servers\n",
    "        else:\n",
    "            servers -= 1\n",
    "            servers = max(servers, 0)\n",
    "            self.event = \"departure\"\n",
    "            self.event_time += self.service_time\n",
    "            bisect.insort(event_list, self, key=lambda x: x.event_time)\n",
    "            return servers\n",
    "    \n",
    "    def depart(self, servers):\n",
    "        servers += 1\n",
    "        servers = min(servers, m)\n",
    "        return servers"
   ]
  },
  {
   "cell_type": "code",
   "execution_count": 4,
   "metadata": {},
   "outputs": [],
   "source": [
    "#arrival time differences are exponentially distributed\n",
    "arrival_intervals = np.random.exponential(1/lam, total_customers)\n",
    "arrival_times = np.cumsum(arrival_intervals)"
   ]
  },
  {
   "cell_type": "code",
   "execution_count": 5,
   "metadata": {},
   "outputs": [],
   "source": [
    "\n",
    "event_list = [Customer(arrival_time, expon.rvs(scale = s)) for arrival_time in arrival_times]\n",
    "def main_loop(event_list, m, repititions = 10):\n",
    "    blocked = np.zeros(repititions)\n",
    "    for i in range(repititions):\n",
    "        event_list.sort(key=lambda x: x.event_time)\n",
    "        open_servers = m\n",
    "        while event_list:\n",
    "            event = event_list.pop(0)\n",
    "            if event.event == \"arrival\":\n",
    "                open_servers = event.arrive(open_servers, event_list)\n",
    "                blocked[i] += event.blocked\n",
    "            elif event.event == \"departure\":\n",
    "                open_servers = event.depart(open_servers)\n",
    "        return blocked\n",
    "\n",
    "blocked_1 = main_loop(event_list, m)"
   ]
  },
  {
   "cell_type": "code",
   "execution_count": 6,
   "metadata": {},
   "outputs": [
    {
     "name": "stdout",
     "output_type": "stream",
     "text": [
      "Blocking probability:  [0.1226 0.     0.     0.     0.     0.     0.     0.     0.     0.    ]\n"
     ]
    }
   ],
   "source": [
    "print(\"Blocking probability: \", blocked_1/total_customers)"
   ]
  },
  {
   "cell_type": "code",
   "execution_count": 7,
   "metadata": {},
   "outputs": [],
   "source": [
    "#Erlang B formula\n",
    "def erlang_b(m, A):\n",
    "    return (A**m/math.factorial(m))/np.sum([A**i/math.factorial(i) for i in range(m+1)])"
   ]
  },
  {
   "cell_type": "code",
   "execution_count": 8,
   "metadata": {},
   "outputs": [
    {
     "name": "stdout",
     "output_type": "stream",
     "text": [
      "0.12166106425295149\n"
     ]
    }
   ],
   "source": [
    "#Theoretical blocking probability\n",
    "print(erlang_b(m, A))"
   ]
  },
  {
   "cell_type": "markdown",
   "metadata": {},
   "source": [
    "## 2\n",
    "The arrival process is modelled as a renewal process using the\n",
    "same parameters as in Part 1 when possible. Report the\n",
    "fraction of blocked customers, and a confidence interval for this\n",
    "fraction for at least the following two cases"
   ]
  },
  {
   "cell_type": "code",
   "execution_count": 9,
   "metadata": {},
   "outputs": [
    {
     "name": "stdout",
     "output_type": "stream",
     "text": [
      "Blocking probability:  [0.1196 0.     0.     0.     0.     0.     0.     0.     0.     0.    ]\n"
     ]
    }
   ],
   "source": [
    "# (a) Experiment with Erlang distributed inter arrival times The\n",
    "#Erlang distribution should have a mean of 1\n",
    "inter_arrival_times = np.random.gamma(m, 1/m, total_customers)\n",
    "arrabival_times = np.cumsum(inter_arrival_times)\n",
    "event_list = [Customer(arrival_time, expon.rvs(scale = s)) for arrival_time in arrival_times]\n",
    "blocked_erlang = main_loop(event_list, m)\n",
    "print(\"Blocking probability: \", blocked_erlang/total_customers)"
   ]
  },
  {
   "cell_type": "code",
   "execution_count": 10,
   "metadata": {},
   "outputs": [
    {
     "name": "stdout",
     "output_type": "stream",
     "text": [
      "Blocking probability:  [0.9869 0.     0.     0.     0.     0.     0.     0.     0.     0.    ]\n"
     ]
    }
   ],
   "source": [
    "# hyper exponential inter arrival times. The parameters for\n",
    "#the hyper exponential distribution should be\n",
    "p1 = 0.8\n",
    "λ1 = 0.8333\n",
    "p2 = 0.2\n",
    "λ2 = 5.0\n",
    "inter_arrival_times = np.random.choice([expon.rvs(scale = 1/λ1), expon.rvs(scale = 1/λ2)], total_customers, p=[p1, p2])\n",
    "arrival_times = np.cumsum(inter_arrival_times)\n",
    "event_list = [Customer(arrival_time, expon.rvs(scale = s)) for arrival_time in arrival_times]\n",
    "blocked_hyperexp = main_loop(event_list, m)\n",
    "print(\"Blocking probability: \", blocked_hyperexp/total_customers)\n",
    "\n"
   ]
  },
  {
   "cell_type": "markdown",
   "metadata": {},
   "source": [
    "## 3\n",
    "The arrival process is again a Poisson process like in Part 1.\n",
    "Experiment with different service time distributions with the\n",
    "same mean service time and m as in Part 1 and Part 2"
   ]
  },
  {
   "cell_type": "code",
   "execution_count": 11,
   "metadata": {},
   "outputs": [
    {
     "name": "stdout",
     "output_type": "stream",
     "text": [
      "Blocking probability:  [0.1173 0.     0.     0.     0.     0.     0.     0.     0.     0.    ]\n"
     ]
    }
   ],
   "source": [
    "# a) Constant service time\n",
    "arrival_intervals = np.random.exponential(1/lam, total_customers)\n",
    "arrival_times = np.cumsum(arrival_intervals)\n",
    "event_list = [Customer(arrival_time, s) for arrival_time in arrival_times]\n",
    "blocked_constant = main_loop(event_list, m)\n",
    "print(\"Blocking probability: \", blocked_constant/total_customers)"
   ]
  },
  {
   "cell_type": "code",
   "execution_count": 12,
   "metadata": {},
   "outputs": [
    {
     "name": "stdout",
     "output_type": "stream",
     "text": [
      "Blocking probability for k= 1.05:  [0.0983 0.     0.     0.     0.     0.     0.     0.     0.     0.    ]\n",
      "Blocking probability for k= 2.05:  [0. 0. 0. 0. 0. 0. 0. 0. 0. 0.]\n"
     ]
    }
   ],
   "source": [
    "# Pareto distributed service times with at least k = 1.05 and\n",
    "#k = 2.05.\n",
    "\n",
    "k = 1.05 \n",
    "event_list = [Customer(arrival_time, np.random.pareto(k)) for arrival_time in arrival_times]\n",
    "blocked_pareto_1 = main_loop(event_list, m)\n",
    "print(\"Blocking probability for k= 1.05: \", blocked_pareto_1/total_customers)\n",
    "k = 2.05\n",
    "event_list = [Customer(arrival_time, np.random.pareto(k)) for arrival_time in arrival_times]\n",
    "blocked_pareto_2 = main_loop(event_list, m)\n",
    "print(\"Blocking probability for k= 2.05: \", blocked_pareto_2/total_customers)"
   ]
  },
  {
   "cell_type": "code",
   "execution_count": 13,
   "metadata": {},
   "outputs": [
    {
     "name": "stdout",
     "output_type": "stream",
     "text": [
      "Blocking probability:  [0.1177 0.     0.     0.     0.     0.     0.     0.     0.     0.    ]\n"
     ]
    }
   ],
   "source": [
    "#absolute gaussian distributed service times with mean s and standard deviation s/4 #99%+ of the values are positive\n",
    "event_list = [Customer(arrival_time, np.random.normal(s, s/4)) for arrival_time in arrival_times]\n",
    "blocked = main_loop(event_list, m)\n",
    "print(\"Blocking probability: \", blocked/total_customers)"
   ]
  },
  {
   "cell_type": "code",
   "execution_count": 28,
   "metadata": {},
   "outputs": [],
   "source": [
    "def getConfidenceInts(m):\n",
    "    # Service times\n",
    "    # Erlang\n",
    "    a = []\n",
    "    for i in range(m):\n",
    "        inter_arrival_times = np.random.gamma(m, 1/m, total_customers)\n",
    "        arrival_times = np.cumsum(inter_arrival_times)\n",
    "        event_list = [Customer(arrival_time, expon.rvs(scale = s)) for arrival_time in arrival_times]\n",
    "        a.append(main_loop(event_list, m, repititions= 1)[0])\n",
    "\n",
    "    # Hyperexponential\n",
    "    b = []\n",
    "    p1 = 0.8\n",
    "    λ1 = 0.8333\n",
    "    p2 = 0.2\n",
    "    λ2 = 5.0\n",
    "    for i in range(m):\n",
    "        inter_arrival_times = np.random.choice([expon.rvs(scale = 1/λ1), expon.rvs(scale = 1/λ2)], total_customers, p=[p1, p2])\n",
    "        arrival_times = np.cumsum(inter_arrival_times)\n",
    "        event_list = [Customer(arrival_time, expon.rvs(scale = s)) for arrival_time in arrival_times]\n",
    "        b.append(main_loop(event_list, m, 1)[0])\n",
    "\n",
    "    # Constant service time\n",
    "    c = []\n",
    "    for i in range(m):\n",
    "        arrival_intervals = np.random.exponential(1/lam, total_customers)\n",
    "        arrival_times = np.cumsum(arrival_intervals)\n",
    "        event_list = [Customer(arrival_time, s) for arrival_time in arrival_times]\n",
    "        c.append(main_loop(event_list, m, 1))\n",
    "\n",
    "    # Two Paretos\n",
    "    d = []\n",
    "    e = []\n",
    "    k1 = 1.05\n",
    "    k2 = 2.05\n",
    "    for i in range(m):\n",
    "        arrival_intervals = np.random.exponential(1/lam, total_customers)\n",
    "        arrival_times = np.cumsum(arrival_intervals)\n",
    "        event_list = [Customer(arrival_time, np.random.pareto(k1)) for arrival_time in arrival_times]\n",
    "        d.append(main_loop(event_list, m, 1)[0])\n",
    "       \n",
    "        event_list = [Customer(arrival_time, np.random.pareto(k2)) for arrival_time in arrival_times]\n",
    "        e.append( main_loop(event_list, m, 1)[0])\n",
    "        \n",
    "    # Absolute normal\n",
    "    f = []\n",
    "    for i in range(m):\n",
    "        event_list = [Customer(arrival_time, np.random.normal(s, s/4)) for arrival_time in arrival_times]\n",
    "        f.append(main_loop(event_list, m,1)[0])\n",
    "\n",
    "    # Both exponential\n",
    "    h = []\n",
    "    for i in range(m):\n",
    "        arrival_intervals = np.random.exponential(1/lam, total_customers)\n",
    "        arrival_times = np.cumsum(arrival_intervals)\n",
    "        event_list = [Customer(arrival_time, expon.rvs(scale = s)) for arrival_time in arrival_times]\n",
    "        h.append(main_loop(event_list, m, 1)[0])\n",
    "\n",
    "\n",
    "    return a, b, c, d, e, f, h"
   ]
  },
  {
   "cell_type": "code",
   "execution_count": 29,
   "metadata": {},
   "outputs": [],
   "source": [
    "a, b, c, d, e, f, h = getConfidenceInts(40)"
   ]
  },
  {
   "cell_type": "code",
   "execution_count": 33,
   "metadata": {},
   "outputs": [
    {
     "name": "stdout",
     "output_type": "stream",
     "text": [
      "Both exponential:\n",
      " Mean: 1097  Standard Deviation: 116.\n",
      " Confidence interval: [1061,1134 ]\n",
      "Arrival Erlang:\n",
      " Mean: 313  Standard Deviation: 118.\n",
      " Confidence interval: [276,349 ]\n",
      "Arrival is hyperexponential:\n",
      " Mean: 2322  Standard Deviation: 2601.\n",
      " Confidence interval: [1516,3128 ]\n",
      "Service is constant :\n",
      " Mean: 1069  Standard Deviation: 122.\n",
      " Confidence interval: [1031,1107 ]\n",
      "Service is Pareto k = 1.05:\n",
      " Mean: 602  Standard Deviation: 340.\n",
      " Confidence interval: [496,707 ]\n",
      "Service is Pareto k = 2.05:\n",
      " Mean: 0  Standard Deviation: 0.\n",
      " Confidence interval: [0,0 ]\n",
      "Service is Absolute Normal\n",
      " Mean: 1035  Standard Deviation: 107.\n",
      " Confidence interval: [1002,1068 ]\n"
     ]
    }
   ],
   "source": [
    "print(f\"Both exponential:\\n Mean: {np.mean(h):.0f}  Standard Deviation: {np.sqrt(np.var(h)):.0f}.\\n Confidence interval: [{np.mean(h) + np.sqrt(np.var(h)) / np.sqrt(len(h)) * -1.96:.0f},{np.mean(h) + np.sqrt(np.var(h)) / np.sqrt(len(h)) * 1.96:.0f} ]\")\n",
    "\n",
    "print(f\"Arrival Erlang:\\n Mean: {np.mean(a):.0f}  Standard Deviation: {np.sqrt(np.var(a)):.0f}.\\n Confidence interval: [{np.mean(a) + np.sqrt(np.var(a)) / np.sqrt(len(a)) * -1.96:.0f},{np.mean(a) + np.sqrt(np.var(a)) / np.sqrt(len(a)) * 1.96:.0f} ]\")\n",
    "\n",
    "print(f\"Arrival is hyperexponential:\\n Mean: {np.mean(b):.0f}  Standard Deviation: {np.sqrt(np.var(b)):.0f}.\\n Confidence interval: [{np.mean(b) + np.sqrt(np.var(b)) / np.sqrt(len(b)) * -1.96:.0f},{np.mean(b) + np.sqrt(np.var(b)) / np.sqrt(len(b)) * 1.96:.0f} ]\")\n",
    "\n",
    "print(f\"Service is constant :\\n Mean: {np.mean(c):.0f}  Standard Deviation: {np.sqrt(np.var(c)):.0f}.\\n Confidence interval: [{np.mean(c) + np.sqrt(np.var(c)) / np.sqrt(len(c)) * -1.96:.0f},{np.mean(c) + np.sqrt(np.var(c)) / np.sqrt(len(c)) * 1.96:.0f} ]\")\n",
    "\n",
    "print(f\"Service is Pareto k = 1.05:\\n Mean: {np.mean(d):.0f}  Standard Deviation: {np.sqrt(np.var(d)):.0f}.\\n Confidence interval: [{np.mean(d) + np.sqrt(np.var(d)) / np.sqrt(len(d)) * -1.96:.0f},{np.mean(d) + np.sqrt(np.var(d)) / np.sqrt(len(d)) * 1.96:.0f} ]\")\n",
    "\n",
    "print(f\"Service is Pareto k = 2.05:\\n Mean: {np.mean(e):.0f}  Standard Deviation: {np.sqrt(np.var(e)):.0f}.\\n Confidence interval: [{np.mean(e) + np.sqrt(np.var(e)) / np.sqrt(len(e)) * -1.96:.0f},{np.mean(e) + np.sqrt(np.var(e)) / np.sqrt(len(e)) * 1.96:.0f} ]\")\n",
    "\n",
    "print(f\"Service is Absolute Normal\\n Mean: {np.mean(f):.0f}  Standard Deviation: {np.sqrt(np.var(f)):.0f}.\\n Confidence interval: [{np.mean(f) + np.sqrt(np.var(f)) / np.sqrt(len(f)) * -1.96:.0f},{np.mean(f) + np.sqrt(np.var(f)) / np.sqrt(len(f)) * 1.96:.0f} ]\")"
   ]
  },
  {
   "cell_type": "code",
   "execution_count": null,
   "metadata": {},
   "outputs": [],
   "source": []
  }
 ],
 "metadata": {
  "kernelspec": {
   "display_name": "Python 3",
   "language": "python",
   "name": "python3"
  },
  "language_info": {
   "codemirror_mode": {
    "name": "ipython",
    "version": 3
   },
   "file_extension": ".py",
   "mimetype": "text/x-python",
   "name": "python",
   "nbconvert_exporter": "python",
   "pygments_lexer": "ipython3",
   "version": "3.10.11"
  }
 },
 "nbformat": 4,
 "nbformat_minor": 2
}
