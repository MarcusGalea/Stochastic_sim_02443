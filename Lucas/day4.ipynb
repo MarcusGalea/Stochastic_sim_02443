{
 "cells": [
  {
   "cell_type": "markdown",
   "metadata": {},
   "source": [
    "# Exercise 5 - Variance redudiction Methods\n",
    "\n",
    "The tasks centers around simlation of the integral $\\int_{0}^{1} e^x \\, \\mathrm{d}x$"
   ]
  },
  {
   "cell_type": "code",
   "execution_count": 1,
   "metadata": {},
   "outputs": [],
   "source": [
    "import numpy as np\n",
    "import numpy.random as rnd\n",
    "import scipy.stats as stats\n",
    "import math as math"
   ]
  },
  {
   "cell_type": "markdown",
   "metadata": {},
   "source": [
    "# UNCHANGED\n",
    "## 1) Simulation of the integral using a Crude Monte Carlo Method\n",
    "\n",
    "Using from the slides that the integral can be simplified to the expectation of $e^U$ where $U\\sim Uniform(0,1)$. Simulate $n = 100$ instances of $e^x$, and find the mean. To get a 95% CI, use quantiles from t distribution with $n-1$ dof and $\\alpha = 0.05$.\n",
    "\n",
    "$$CI = \\left[\\bar{\\theta} + \\frac{S_\\theta}{\\sqrt{n}}t_{\\frac{\\alpha}{2}} (n-1);\\bar{\\theta} + \\frac{S_\\theta}{\\sqrt{n}}t_{1-\\frac{\\alpha}{2}} (n-1) \\right]$$"
   ]
  },
  {
   "cell_type": "code",
   "execution_count": 4,
   "metadata": {},
   "outputs": [
    {
     "name": "stdout",
     "output_type": "stream",
     "text": [
      "For Crude Monte Carlo :\n",
      "Mean is 1.763, with 95% confidence interval [1.67,1.857]\n",
      "The true value of the integral is: 1.7183\n"
     ]
    }
   ],
   "source": [
    "def crudeMC(n):\n",
    "    U = rnd.uniform(size = n)\n",
    "    x = np.exp(U)\n",
    "    return x\n",
    "\n",
    "def meanVar(x):\n",
    "    mean = np.mean(x)\n",
    "    var = np.var(x)\n",
    "    return mean, var\n",
    "\n",
    "def tConf(x, alpha, string):\n",
    "    mean, var = meanVar(x)\n",
    "    dof = len(x) - 1\n",
    "    s = np.sqrt(var / len(x))\n",
    "    a = stats.t.ppf(alpha/2, dof)\n",
    "    b = stats.t.ppf(1 - alpha/2, dof)\n",
    "    print(\"For\", string, \":\")\n",
    "    print(f\"Mean is {round(mean,3)}, with 95% confidence interval [{round(mean + s * a,2)},{round(mean + s * b,3)}]\")\n",
    "\n",
    "alpha = 0.05\n",
    "n = 100\n",
    "Xs_crude = crudeMC(n)\n",
    "tConf(Xs_crude, alpha, \"Crude Monte Carlo\" )\n",
    "print(f\"The true value of the integral is: {round(np.exp(1) - np.exp(0),4)}\")"
   ]
  },
  {
   "cell_type": "markdown",
   "metadata": {},
   "source": [
    "# UNCHANGED\n",
    "### 2) Antithetic variables\n",
    "We can use Anithetic variables to exploit the fact that the integral $\\int_{-\\infty}^{\\infty} e^x \\, \\mathrm{d}x$ is monotonely increasing. In practice this means we can use a single uniformly distributed value $U\\sim Uniform(0,1)$, as in the Crude Monte Carlo Method, an use it to create a second uniformly distributed value $U-1$, almost for free. \n",
    "\n",
    "Using these we can create 2 estimates of the integral by $e^U$ and $e^{U-1}$, and take the average of these two to get a much more robust estimate of the integral\n",
    "\n",
    "$$Y_i = \\frac{e^{U_i - e^{U_i-1}}}{2}.$$\n",
    "\n",
    "The expectation of the integral is now\n",
    "\n",
    "$$E\\left(Y_i\\right).$$\n",
    "\n",
    "$Y_i$ which on the slides is proved to have variance $\\frac{1}{4} Var\\left(e^{U_i}\\right) + \\frac{1}{4} Var\\left(e^{1- U_i}\\right) + \\frac{1}{2} Cov\\left(e^{U_i}, e^{1- U_i}\\right)$. As $e^{U_i}$ and  $e^{1- U_i}$ are obviosly negatively correlated, this variance is much lower than before.\n",
    "\n",
    "By rewriting $Y_i$ computing cost can be lowered, to only calculate a single exponential, resulting in an only marginally more expensive computation for $n$ $Y$'s compared to $n$ $X$'s.\n",
    "\n",
    "$$Y_i = \\frac{e^{U_i + \\frac{e}{e^{U_i}}}}{2}.$$\n",
    "\n",
    "Note: Had the integral not been monotonely increasing, say we had attemted to estimate some other function $f$, we could have had a situation where $f\\left(U_i\\right)$ and $f\\left(U_i - 1\\right)$ had been positively correlated, which could lead to a higher variance on $Y_i$. For the exponential function one of $e^{U_i}$ and $e^{U_i-1}$ is always large, and one is always small."
   ]
  },
  {
   "cell_type": "code",
   "execution_count": 30,
   "metadata": {},
   "outputs": [
    {
     "name": "stdout",
     "output_type": "stream",
     "text": [
      "For Antithetics Variables :\n",
      "Mean is 1.717, with 95% confidence interval [1.7,1.729]\n"
     ]
    }
   ],
   "source": [
    "def antithetic(n):\n",
    "    U = rnd.uniform(size = n)\n",
    "    t = np.exp(U)\n",
    "    Ys = 0.5 * (t + np.exp(1) / t )\n",
    "    return Ys\n",
    "Xs_antithetic = antithetic(100)\n",
    "tConf(Xs_antithetic, alpha, \"Antithetics Variables\")"
   ]
  },
  {
   "cell_type": "markdown",
   "metadata": {},
   "source": [
    "# UNCHANGED\n",
    "### 3) Control Variates\n",
    "We can use the variable \n",
    "\n",
    "$$Z = X + c \\left(Y - \\mu_i\\right),$$\n",
    "\n",
    "instead of $X_i$ as the estimate of the integral. It can then be shown that $E\\left(X\\right) = E\\left(Z\\right)$, since\n",
    "\n",
    "$$E\\left(Z\\right) = E\\left(X\\right) +E\\left(c \\left(Y - \\mu_i\\right)\\right) $$\n",
    "$$ = E\\left(X\\right) + c \\left(E\\left(Y \\right) - E \\left(\\mu_i\\right)\\right) = E\\left(X\\right) + c \\left(\\mu_i - \\mu_i\\right) =E\\left(X_i\\right). $$\n",
    "\n",
    "From the slides we also know that choosing the optimal $c = -\\frac{Cov(X,Y)}{Var(Y)}$, results in a variance of $ Z $\n",
    "\n",
    "$$ Var(Z) = Var(X) - \\frac{Cov(X,Y)^2}{Var(Y)}. $$\n",
    "\n",
    "For this specific problem we are given $X_i = e^{U_i}$, and it is natural to choose $Y_i = U_i$. This again exploits the covariance between $U_i$ and $X_i$, though this time negative correlation is not a requirement, as the covariance is squared. It should just be non-zero. \n",
    "As $E\\left(U_i\\right) = \\frac{1}{2}$  we get\n",
    "\n",
    "$$Z_i = e^{U_i} + c \\left(U_i - \\frac{1}{2}\\right),$$\n",
    "\n",
    "with $c\\approx 0.14086.$"
   ]
  },
  {
   "cell_type": "code",
   "execution_count": 6,
   "metadata": {},
   "outputs": [
    {
     "name": "stdout",
     "output_type": "stream",
     "text": [
      "For Control Variates\n",
      "Mean is 1.71, with 95% confidence interval [1.7,1.72]\n"
     ]
    }
   ],
   "source": [
    "def controlVariates(n, alpha):\n",
    "    U = rnd.uniform(size = n)\n",
    "    Xs = np.exp(U)\n",
    "    dof = len(Xs) - 1\n",
    "    meanZ = np.mean(Xs)\n",
    "    cov = np.mean(U * Xs) - np.mean(U) * np.mean(Xs) \n",
    "    varZ = np.var(Xs) - cov**2 / np.var(U)\n",
    "    s = np.sqrt(varZ / len(Xs))\n",
    "    a = stats.t.ppf(alpha/2, dof)\n",
    "    b = stats.t.ppf(1 - alpha/2, dof)\n",
    "    print(\"For Control Variates\")\n",
    "    print(f\"Mean is {round(meanZ,2)}, with 95% confidence interval [{round(meanZ + s * a,2)},{round(meanZ + s * b,2)}]\")\n",
    "controlVariates(n, alpha)"
   ]
  },
  {
   "cell_type": "markdown",
   "metadata": {},
   "source": [
    "# UNCHANGED\n",
    "### 4) Statified Sampling\n",
    "Stratified sampling attemts to lower variance by (almost) gaurantying samples from the entire sample space, by cutting the sample space into $m$ pieces, and then sampling a number of variables from each. Here we´ll use $m = 10$ even intervals, to ensure even computational cost to the other methods, 10 $U_i$'s are generated in each interval.\n",
    "\n",
    "The method then takes one $U_i$ from each interval and creates a single variable $W_i$ \n",
    "\n",
    "$$W_i = \\frac{\\sum_{k=1}^{m} X_{i,k}}{m}, $$\n",
    "\n",
    "where $ k $ now denotes which interval the $X_i$ comes from. Still $X_i = e^{U_i}$, or $X_{i,k} = e^{U_{i,k}}$."
   ]
  },
  {
   "cell_type": "code",
   "execution_count": 32,
   "metadata": {},
   "outputs": [
    {
     "name": "stdout",
     "output_type": "stream",
     "text": [
      "For Stratified Sampling :\n",
      "Mean is 1.72, with 95% confidence interval [1.71,1.733]\n"
     ]
    }
   ],
   "source": [
    "def stratSamples(n):\n",
    "    num_ints = 10\n",
    "    k = 1 / num_ints\n",
    "    Xs = np.zeros(n)\n",
    "    Us = np.zeros(num_ints)\n",
    "    for j in range(n):\n",
    "        for i in range(num_ints):\n",
    "            a = k * i\n",
    "            b = a + k \n",
    "            U = rnd.uniform(a, b, size = 1)\n",
    "            Us[i] = U\n",
    "        Xs[j] = np.mean(np.exp(Us))\n",
    "    return Xs\n",
    "n = 10\n",
    "Xs_stratified = stratSamples(n)\n",
    "tConf(Xs_stratified, alpha, \"Stratified Sampling\")"
   ]
  },
  {
   "cell_type": "markdown",
   "metadata": {},
   "source": [
    "### 1-4) Observations\n",
    "The Crude MC method gives a very wide CI\n",
    "All the variance reduction methods have succesfully narrowed the CI. We had the largest success with Control Variates."
   ]
  },
  {
   "cell_type": "markdown",
   "metadata": {},
   "source": [
    "# CHANGED\n",
    "### 5) Use control variates to reduce the variance of the estimator in exercise 4\n",
    "We'll use the arrival intervals as control variate, i.e. control variate $C_i \\sim Exp(\\lambda)$, note the difference between arrival intervals, which are just sampled, and arrival times which are the actual times customers arrive at, which is the cummulative arrival intervals.\n",
    "\n",
    "Using the formula\n",
    "\n",
    "$$Z_i = X_i + c \\left(C_i - 1 \\right), $$\n",
    "\n",
    "$X_i$ is a list of bools of wether the customer with arrival interval $C_i$. Correlation is expected between $X_i$ and $C_i$ as a customer arriving quickly after another (small $C_i$) would presumably be blocked more often, as other customers have not had time to be served yet. We ofcourse know the mean of $C_i$, and can find the optimal $c = \\frac{Cov\\left(X, C \\right)}{Var(C)}$ in each iteration. \n",
    "\n",
    "We're concerned with the mean of $X_i$, which is the blocking probability, and $Z_i$ is constructed to have the same mean."
   ]
  },
  {
   "cell_type": "code",
   "execution_count": 1,
   "metadata": {},
   "outputs": [],
   "source": [
    "import numpy as np\n",
    "import numpy.random as rnd\n",
    "import scipy.stats as stats\n",
    "import math as math\n",
    "from scipy.stats import expon\n",
    "import numpy as np\n",
    "from discrete_event import Customer, main_loop, confidence_intervals, erlang_b, main_loop_array\n",
    "\n",
    "#arrival time differences are exponentially distributed\n",
    "lam = 1\n",
    "total_customers = 10000\n",
    "m = 10\n",
    "s = 8\n",
    "repititions = 10\n",
    "#arrival time differences are exponentially distributed\n",
    "arrival_interval = lambda : np.random.exponential(1/lam, size = total_customers)\n",
    "service_time =lambda : expon.rvs(scale = s, size = total_customers)"
   ]
  },
  {
   "cell_type": "code",
   "execution_count": 2,
   "metadata": {},
   "outputs": [
    {
     "name": "stdout",
     "output_type": "stream",
     "text": [
      "Estimated blocking probability 12.3%\n",
      "True blocking probability 12.2% (From Erlang formula)\n",
      "95% CI for mean of blocking probability [0.1194, 0.1259]\n",
      "Interval width 0.0065\n"
     ]
    }
   ],
   "source": [
    "blocked = main_loop(arrival_interval, service_time, m, repititions = repititions)/total_customers\n",
    "#print(\"Blocking probability\", blocked/total_customers * 100)\n",
    "#confidence interval for the mean\n",
    "theta = np.mean(blocked)\n",
    "confint = confidence_intervals(blocked)\n",
    "print(f\"Estimated blocking probability {round(theta,3)*100}%\\nTrue blocking probability {round(erlang_b(m, lam*s),3) *100}% (From Erlang formula)\" )\n",
    "print(f\"95% CI for mean of blocking probability [{round(confint[0],4)}, {round(confint[1],4)}]\")\n",
    "print(\"Interval width\", round(confint[1]-confint[0],4))"
   ]
  },
  {
   "cell_type": "code",
   "execution_count": 6,
   "metadata": {},
   "outputs": [
    {
     "name": "stdout",
     "output_type": "stream",
     "text": [
      "Estimated blocking probability 11.899999999999999%\n",
      "True blocking probability 12.2% (From Erlang formula)\n",
      "95% CI for mean of blocking probability [0.1208, 0.1251]\n",
      "Interval width 0.0043\n"
     ]
    }
   ],
   "source": [
    "np.random.seed(2)\n",
    "n = 10\n",
    "Zs = []\n",
    "\n",
    "for i in range(n):\n",
    "    arrival_intervals = np.random.exponential(1/lam, size = total_customers)\n",
    "    service_times = expon.rvs(scale = s, size = total_customers)\n",
    "    blocked = main_loop_array(arrival_intervals, service_times, m)#/total_customers\n",
    "    # Construct new variable\n",
    "    c = -np.cov(arrival_intervals, blocked)[0,1] / np.var(arrival_intervals)\n",
    "    Z = blocked + c * (arrival_intervals - 1)\n",
    "    Zs.append(np.mean(Z))\n",
    "\n",
    "tehta_Z = np.mean(Zs)\n",
    "confint_Z = confidence_intervals(Zs)\n",
    "print(f\"Estimated blocking probability {round(theta,3)*100}%\\nTrue blocking probability {round(erlang_b(m, lam*s),3) *100}% (From Erlang formula)\" )\n",
    "print(f\"95% CI for mean of blocking probability [{round(confint_Z[0],4)}, {round(confint_Z[1],4)}]\")\n",
    "print(\"Interval width\", round(confint_Z[1]-confint_Z[0],4))"
   ]
  },
  {
   "cell_type": "markdown",
   "metadata": {},
   "source": [
    "### 6) Reduce variance for the difference between solutions with poisson arrivals and hyperexponential renewal process in exercise 4\n",
    "\n",
    "Do this using Common Random Numbers (CRN). Using CRN we should be able to reduce the width of the CI og the difference in number of blocked customers between the two arrival processes. \n",
    "\n",
    "Using non-CRN's it should require 5 differerent processes of generating arrivals and leaves to compare the two processes. 2 generates the serice times for the processes, one generates arrivals for the poisson process and 2 generates renewals for the hyperexponential arrivals.\n",
    "\n",
    "When using CRN's this can be reduced to 3. The services times can be generated from the same $U$, since they should be the same here. We can use a single $U$ as the exponential for the poisson and hyperexponential processes. We also need one more $U$ to flip between the two exponentials in the hyperexponential distribution.\n",
    "\n",
    "Both test runs predict more blocked customers when assuming a hyperexponential renewal process. The width of the CI when using CRN's can be reduced to $\\sim 1/3$ compared to just simulating the two processes independently."
   ]
  },
  {
   "cell_type": "code",
   "execution_count": 68,
   "metadata": {},
   "outputs": [],
   "source": [
    "import bisect as bisect\n",
    "class Customer:\n",
    "    def __init__(self, arrival_time, service_time):\n",
    "        self.service_time = service_time\n",
    "        self.blocked = False\n",
    "        \n",
    "        self.event = \"arrival\"\n",
    "        self.event_time = arrival_time\n",
    "      \n",
    "                \n",
    "    def arrive(self, servers, event_list):\n",
    "        if servers < 1:\n",
    "            self.blocked = True\n",
    "            return servers\n",
    "        else:\n",
    "            servers -= 1\n",
    "            servers = max(servers, 0)\n",
    "            self.event = \"departure\"\n",
    "            self.event_time += self.service_time\n",
    "            bisect.insort(event_list, self, key=lambda x: x.event_time)\n",
    "            return servers\n",
    "    \n",
    "    def depart(self, servers):\n",
    "        servers += 1\n",
    "        servers = min(servers, m)\n",
    "        return servers\n",
    "\n",
    "from distributions import getExponential, getUniform\n",
    "\n",
    "def main_loop(event_list, m, repititions = 10):\n",
    "\n",
    "    blocked = 0\n",
    "    for i in range(repititions):\n",
    "        event_list.sort(key=lambda x: x.event_time)\n",
    "        open_servers = m\n",
    "        while event_list:\n",
    "            event = event_list.pop(0)\n",
    "            if event.event == \"arrival\":\n",
    "                open_servers = event.arrive(open_servers, event_list)\n",
    "                blocked += event.blocked\n",
    "            elif event.event == \"departure\":\n",
    "                open_servers = event.depart(open_servers)\n",
    "    return blocked\n",
    "\n",
    "num_customers = 10000\n",
    "lam = 1\n",
    "s = 1/8\n",
    "# Generate two eventlists\n",
    "p1 = 0.8\n",
    "lam1 = 0.8333\n",
    "p2 = 0.2\n",
    "lam2 = 5.0\n",
    "\n",
    "def generateHexp(Us, Us2, p2, lam1, lam2):\n",
    "    Xs = np.zeros(len(Us))\n",
    "    for i in range(len(Us)):\n",
    "        if Us2[i] < p2:\n",
    "            Xs[i] = -np.log(Us[i]) / lam2\n",
    "        else:\n",
    "            Xs[i] = -np.log(Us[i]) / lam1\n",
    "    return Xs\n",
    "\n",
    "m = 10\n",
    "rep = 5\n",
    "blocked_hexp = np.zeros(rep)\n",
    "blocked_poisson = np.zeros(rep)\n",
    "blocked_poisson_common = np.zeros(rep)\n",
    "blocked_hexp_common = np.zeros(rep)\n",
    "for i in range(rep):\n",
    "\n",
    "    Us1 = rnd.uniform(0,1,num_customers)\n",
    "    Us2 = rnd.uniform(0,1,num_customers)\n",
    "    Us3 = rnd.uniform(0,1,num_customers)\n",
    "    service_intervals = -np.log(Us1) / s\n",
    "    poisson_arrival_times = np.cumsum(-np.log(Us2) / lam)\n",
    "    hexp_arrival_times = np.cumsum(generateHexp(Us2, Us3, p2, lam1, lam2))\n",
    "\n",
    "    event_list_poisson = [Customer(poisson_arrival_times[i], service_intervals[i]) for i in range(num_customers)]\n",
    "    event_list_hexp = [Customer(hexp_arrival_times[i], service_intervals[i]) for i in range(num_customers)]\n",
    "\n",
    "    blocked_poisson_common[i] = main_loop(event_list_poisson, m, repititions=1)\n",
    "    blocked_hexp_common[i] = main_loop(event_list_hexp, m, repititions=1)\n",
    "\n",
    "    Us1 = rnd.uniform(0,1,num_customers)\n",
    "    Us2 = rnd.uniform(0,1,num_customers)\n",
    "    Us3 = rnd.uniform(0,1,num_customers)\n",
    "    Us4 = rnd.uniform(0,1,num_customers)\n",
    "    Us5 = rnd.uniform(0,1,num_customers)\n",
    "    service_intervals1 = -np.log(Us2) / s\n",
    "    service_intervals2 = -np.log(Us3) / s\n",
    "\n",
    "    poisson_arrival_times = np.cumsum(-np.log(Us1) / lam)\n",
    "    hexp_arrival_times = np.cumsum(generateHexp(Us4, Us5, p2, lam1, lam2))\n",
    "\n",
    "    event_list_poisson = [Customer(poisson_arrival_times[i], service_intervals1[i]) for i in range(num_customers)]\n",
    "    event_list_hexp = [Customer(hexp_arrival_times[i], service_intervals2[i]) for i in range(num_customers)]\n",
    "\n",
    "    blocked_poisson[i] = main_loop(event_list_poisson, m, repititions=1)\n",
    "    blocked_hexp[i] = main_loop(event_list_hexp,m, repititions=1)"
   ]
  },
  {
   "cell_type": "code",
   "execution_count": 71,
   "metadata": {},
   "outputs": [
    {
     "name": "stdout",
     "output_type": "stream",
     "text": [
      "For common random numbers\n",
      "Mean is -132.0, with confidence interval [-170.009,-93.991]\n",
      "Width of CI = 76.017\n",
      "For independent random numbers\n",
      "Mean is -152, with confidence interval [-284.092,-19.908]\n",
      "Width of CI = 264.184\n"
     ]
    }
   ],
   "source": [
    "theta_crn = blocked_poisson_common - blocked_hexp_common\n",
    "theta_irn = blocked_poisson - blocked_hexp\n",
    "\n",
    "mean_theta_crn = round(np.mean(theta_crn),0)\n",
    "var_theta_crn = np.var(theta_crn)\n",
    "s = np.sqrt(var_theta_crn / len(theta_crn))\n",
    "dof = len(theta_crn)-1\n",
    "a = stats.t.ppf(alpha/2, dof)\n",
    "b = stats.t.ppf(1 - alpha/2,dof)\n",
    "print(\"For common random numbers\")\n",
    "print(f\"Mean is {mean_theta_crn}, with confidence interval [{round(mean_theta_crn + s * a,3)},{round(mean_theta_crn + s * b,3)}]\")\n",
    "print(f\"Width of CI = {round(np.abs(mean_theta_crn + s * a - mean_theta_crn - s*b),3)}\")\n",
    "\n",
    "\n",
    "mean_theta_irn = int(np.mean(theta_irn))\n",
    "var_theta_irn = np.var(theta_irn)\n",
    "s = np.sqrt(var_theta_irn / len(theta_irn))\n",
    "print(\"For independent random numbers\")\n",
    "print(f\"Mean is {mean_theta_irn}, with confidence interval [{round(mean_theta_irn + s * a,3)},{round(mean_theta_irn + s * b,3)}]\")\n",
    "print(f\"Width of CI = {round(abs(mean_theta_irn + s * a - mean_theta_irn - s*b),3)}\")"
   ]
  },
  {
   "cell_type": "markdown",
   "metadata": {},
   "source": [
    "### 7) Using a Crude Monte Carlo estimator vs Importance Sampling\n",
    "Attempt to estimate the probality $Z > a$ for $Z\\sim N(0,1)$ for $a = 2,4$.\n",
    "Do this using a crude monte carlo estimator and with importance sampling.\n",
    "\n",
    "Using importance sampling set $h(z) = z > a$. We'll choose $g(x)$ to also be a normal distribution, with the same variance as $f(x)$, though with mean $a$ instead. This means $g$ samples around $a$ more often. We thus have to sample fewer points to get an accurate estimate. \n",
    "\n",
    "Notice $n = 10000$ with importance sampling gives significant digits, while the Crude Estimator needs $n  = 100000$ to get a significant digit. A lot of time can be saved.\n",
    "\n",
    "As long as a is small enough e.g. $a = 2$ Importance Sampling does not seem nescesarry."
   ]
  },
  {
   "cell_type": "code",
   "execution_count": 73,
   "metadata": {},
   "outputs": [
    {
     "name": "stdout",
     "output_type": "stream",
     "text": [
      "With 10000 samples\n",
      "Crude probability z larger than 2 is 2.27%\n",
      "Crude probability z larger than 4 is 0.003%\n",
      "Probability z larger than 2 with importance sampling 2.3139%\n",
      "Probability z larger than 4 with importance sampling 0.0031%\n"
     ]
    }
   ],
   "source": [
    "def crudeMonteCarloNorm(a,n):\n",
    "    Us = rnd.normal(size = n)\n",
    "    return sum(Us > a) / n\n",
    "n = 10000\n",
    "n2 = 100000\n",
    "p1 = crudeMonteCarloNorm(2, n2)\n",
    "p2 = crudeMonteCarloNorm(4, n2)\n",
    "\n",
    "print(f\"With {n} samples\")\n",
    "print(f\"Crude probability z larger than 2 is {round(p1 * 100,5)}%\")\n",
    "print(f\"Crude probability z larger than 4 is {round(p2 * 100,5)}%\")\n",
    "\n",
    "def h(a,x):\n",
    "    return x > a\n",
    "\n",
    "sigma1 = 1\n",
    "a = 2\n",
    "ys = rnd.normal(loc = a,scale = sigma1,size = n)\n",
    "fy = stats.norm.pdf(ys)\n",
    "gy = stats.norm.pdf(ys, loc = a, scale = sigma1)\n",
    "zs = fy / gy * h(a,ys)\n",
    "print(f\"Probability z larger than 2 with importance sampling {round(np.mean(zs) * 100, 4)}%\")\n",
    "\n",
    "a = 4\n",
    "ys = rnd.normal(loc = a,scale = sigma1,size = n)\n",
    "fy = stats.norm.pdf(ys)\n",
    "gy = stats.norm.pdf(ys, loc = a, scale = sigma1)\n",
    "zs = fy / gy * h(a,ys)\n",
    "\n",
    "print(f\"Probability z larger than 4 with importance sampling {round(np.mean(zs) * 100, 4)}%\")"
   ]
  },
  {
   "cell_type": "markdown",
   "metadata": {},
   "source": [
    "### 8)\n",
    "Analytically set\n",
    "$$f(x) = \\mathbf{1}_{0 \\leq x \\leq 1}$$\n",
    "$$h(x) = e^x$$\n",
    "$$g(x) = \\lambda e ^{-\\lambda x}.$$\n",
    "\n",
    "We want to find the variance of \n",
    "\n",
    "$$\\frac{f(x)h(x)}{g(x)}.$$\n",
    "\n",
    "Write\n",
    "$$Var\\left(\\frac{f(x)h(x)}{g(x)}\\right) = E\\left(\\left(\\frac{f(x)h(x)}{g(x)}\\right)^2\\right)  - E\\left(\\frac{f(x)h(x)}{g(x)}\\right)^2 $$\n",
    "$$ = \\int_{-\\infty}^{\\infty} \\left(\\frac{f(x)h(x)}{g(x)}\\right)^2 g(x)\\, \\mathrm{d}x - \\left(\\int_{-\\infty}^{\\infty} \\frac{f(x)h(x)}{g(x)} g(x)\\, \\mathrm{d}x\\right) ^2.$$\n",
    "\n",
    "The second integral is simply to rewrite\n",
    "$$\\left(\\int_{-\\infty}^{\\infty} \\frac{f(x)h(x)}{g(x)} g(x)\\, \\mathrm{d}x\\right) ^2 = \\left(\\int_{-\\infty}^{\\infty} f(x)h(x)\\, \\mathrm{d}x\\right) ^2$$\n",
    "$$ = \\left(\\int_{0}^{1} f(x)e^x\\, \\mathrm{d}x\\right) ^2.$$\n",
    "\n",
    "The first integral is slightly less pretty\n",
    "\n",
    "$$\\int_{-\\infty}^{\\infty} \\left(\\frac{f(x)h(x)}{g(x)}\\right)^2 g(x)\\, \\mathrm{d}x = \\int_{-\\infty}^{\\infty} \\frac{f(x)^2h(x)^2}{g(x)} \\, \\mathrm{d}x$$\n",
    "$$ = \\int_{-\\infty}^{\\infty} \\frac{f(x)^2e^{2x}}{\\lambda e^{-\\lambda x}} \\, \\mathrm{d}x = \\frac{1}{\\lambda}\\int_{-\\infty}^{\\infty} f(x)^2e^{2x+\\lambda x} \\, \\mathrm{d}x$$\n",
    "$$ =\\frac{1}{\\lambda}\\int_{0}^{1} e^{(2 +\\lambda )x} \\, \\mathrm{d}x .$$\n",
    "\n",
    "Collecting:\n",
    "$$Var\\left(\\frac{f(x)h(x)}{g(x)}\\right) = \\frac{1}{\\lambda}\\int_{0}^{1} e^{(2 +\\lambda )x} \\, \\mathrm{d}x - \\left(\\int_{0}^{1} f(x)e^x\\, \\mathrm{d}x\\right) ^2$$\n",
    "\n",
    "From Maple:\n",
    "$$Var\\left(\\frac{f(x)h(x)}{g(x)}\\right) =\\frac{-1 + e^{2 + \\lambda}}{2 + \\lambda} - (e-1)^2.$$\n",
    "\n",
    "Using a numerical solver to minimize this expression gives $\\lambda \\approx 1.354828644. $"
   ]
  },
  {
   "cell_type": "code",
   "execution_count": 20,
   "metadata": {},
   "outputs": [
    {
     "name": "stdout",
     "output_type": "stream",
     "text": [
      "Theoretical variance at optimal lambda is 2.9803500419443325\n",
      "Actual variance of sample at optimal lambda is 3.1416055177375855\n",
      "Using importance sampling\n",
      "Mean is 1.7106, with confidence interval [1.676,1.745]\n",
      "Width of CI = 0.069\n",
      "Using Crude Monte Carlo\n",
      "Mean is 1.7172, with confidence interval [1.708,1.727]\n",
      "Width of CI = 0.019\n"
     ]
    },
    {
     "data": {
      "image/png": "[encoded data removed]",
      "text/plain": [
       "<Figure size 640x480 with 1 Axes>"
      ]
     },
     "metadata": {},
     "output_type": "display_data"
    }
   ],
   "source": [
    "import matplotlib.pyplot as plt\n",
    "lambda_opt = 1.354828644\n",
    "\n",
    "def var_anal(lam):\n",
    "    return (-1 + np.exp(2 + lam))/(lam*(2 + lam)) - (np.exp(1) - 1)^2\n",
    "\n",
    "def variance(lam, n):\n",
    "    Us1 = rnd.uniform(size = n)\n",
    "    Us2 = rnd.uniform(size = n)\n",
    "    return 1/lam * np.mean(np.exp((2+lam)*Us1)) - np.mean(np.exp(Us2))**2\n",
    "\n",
    "lams = np.linspace(0.09, 5, 1000)\n",
    "ys = np.zeros(1000)\n",
    "for i in range(len(lams)):\n",
    "    ys[i] = variance(lams[i], 10000)\n",
    "print(\"Theoretical variance at optimal lambda is\", np.min(ys))\n",
    "\n",
    "\n",
    "\n",
    "plt.plot(lams, ys)\n",
    "\n",
    "def g(x,lam):\n",
    "    return lam * np.exp(-lam * x)\n",
    "\n",
    "def f(x):\n",
    "    b1 = x > 0\n",
    "    b2 = x < 1\n",
    "    return b1 * b2\n",
    "def h(x):\n",
    "    return np.exp(x)\n",
    "\n",
    "n = 10000\n",
    "lam = lambda_opt\n",
    "\n",
    "\n",
    "\n",
    "n = 10000\n",
    "Xs_crude = crudeMC(n)\n",
    "mean = np.mean(Xs_crude)\n",
    "var = np.var(Xs_crude)\n",
    "s = np.sqrt(var / len(Xs_crude))\n",
    "a = stats.norm.ppf(alpha/2)\n",
    "b = stats.norm.ppf(1 - alpha/2)\n",
    "print(\"Using Crude Monte Carlo\")\n",
    "print(f\"Mean is {round(mean,4)}, with confidence interval [{round(mean + s * a,3)},{round(mean + s * b,3)}]\")\n",
    "print(f\"Width of CI = {round(abs(mean + s * a - mean - s*b),3)}\")"
   ]
  },
  {
   "cell_type": "markdown",
   "metadata": {},
   "source": [
    "We note here that the variance of our sample, when using the optimal lambda, is close to the variance we'ed expect given the plot. Using importance sampling with this $g(x)$ we would not expected to find a lower variance.\n",
    "\n",
    "We can try the same thing, now with $\\lambda  = 3.5$ , where we would expect to see a sample variance aroung $10$, which we indeed do."
   ]
  },
  {
   "cell_type": "code",
   "execution_count": 17,
   "metadata": {},
   "outputs": [
    {
     "name": "stdout",
     "output_type": "stream",
     "text": [
      "Using lambda = 3.5 we instead find a variance of 9.901624437913682\n"
     ]
    }
   ],
   "source": [
    "n = 10000\n",
    "lam = 3.5\n",
    "ys = rnd.exponential(scale = 1/lam, size = n)\n",
    "\n",
    "zs = f(ys) * h(ys) / g(ys, lam)\n",
    "\n",
    "mean = np.mean(zs)\n",
    "var = np.var(zs)\n",
    "\n",
    "print(f\"Using lambda = {lam} we instead find a variance of\", var)"
   ]
  },
  {
   "cell_type": "markdown",
   "metadata": {},
   "source": [
    "### 9) Deriving the IS estimator for the mean of a Pareto distribution"
   ]
  },
  {
   "cell_type": "markdown",
   "metadata": {},
   "source": [
    "pdf for a arbritray Pareto distribution is $f(x) = \\frac{k}{y} \\left(\\frac{\\beta}{y}\\right)^k$. From the lectures we know that the first moment distribution of a Pareto distribution is just a Pareto distribution with paramters $\\beta$ and $k-1$. Thus\n",
    "\n",
    "$$g(y) = \\frac{k-1}{y} \\left(\\frac{\\beta}{y}\\right)^{k-1}.$$\n",
    "\n",
    "As we're estimating the mean, set $h(y) =y.$ Now the IS estimator for the mean is\n",
    "\n",
    "$$\\frac{f(y)h(y)}{g(y)} = \\frac{\\frac{k}{y} \\left(\\frac{\\beta}{y}\\right)^k\\cdot y}{\\frac{k-1}{y} \\left(\\frac{\\beta}{y}\\right)^{k-1}} = \\frac{yk}{k-1}\\frac{\\left(\\frac{\\beta}{y}\\right)^k}{\\left(\\frac{\\beta}{y}\\right)^{k-1}} = \\frac{yk}{k-1} \\frac{\\beta}{y} = \\beta \\frac{k}{k-1}. $$\n",
    "Which we know is just the mean of the original Pareto distribution $f(x)$, i.e. we should be sampling exactly the mean! Which we do, with an exact CI."
   ]
  },
  {
   "cell_type": "code",
   "execution_count": 18,
   "metadata": {},
   "outputs": [
    {
     "name": "stdout",
     "output_type": "stream",
     "text": [
      "Using importance sampling to sample the mean of a pareto distribution using its first moment\n",
      "Mean is 2.0, with confidence interval [2.0,2.0]\n",
      "Width of CI = 0.0\n",
      "Exact solution for the Pareto distribution mean 2.0\n"
     ]
    }
   ],
   "source": [
    "k = 2\n",
    "def g(x):\n",
    "    return (k-1) /(x) * (1/x)**(k-1)\n",
    "\n",
    "def f(x):\n",
    "    return k /(x) * (1/x)**k\n",
    "def h(x):\n",
    "    return x\n",
    "\n",
    "n = 100\n",
    "lam = lambda_opt\n",
    "ys = rnd.exponential(scale = 1/lam, size = n)\n",
    "beta = 1\n",
    "zs = f(ys) * h(ys) / g(ys)\n",
    "alpha = 0.05\n",
    "mean = np.mean(zs)\n",
    "var = np.var(zs)\n",
    "s = np.sqrt(var / len(zs))\n",
    "a = stats.norm.ppf(alpha/2)\n",
    "b = stats.norm.ppf(1 - alpha/2)\n",
    "print(\"Using importance sampling to sample the mean of a pareto distribution using its first moment\") \n",
    "print(f\"Mean is {round(mean,4)}, with confidence interval [{round(mean + s * a,3)},{round(mean + s * b,3)}]\")\n",
    "print(f\"Width of CI = {round(abs(mean + s * a - mean - s*b),3)}\")\n",
    "\n",
    "print(f\"Exact solution for the Pareto distribution mean {k/(k-1) * beta}\")"
   ]
  },
  {
   "cell_type": "markdown",
   "metadata": {},
   "source": [
    "In this case sampling values from a constant value works out, because we know the mean of the Pareto distribution. This approach could be used, but it would be nesecary to know for certain that you´re sampling from the right constant. It could be possible to choose a $g(x)$ such that $\\frac{h(x)f(x)}{g(x)}$ is a constant, which is not the mean of $f(x)$, in this case you would end ud with $100$% confidence, in something which is not correct. Gauranteing that you sample from the constant mean, would require you knowing the mean, but then there would be no reason for this approach.\n",
    "\n",
    "For the previous case $f(x) = \\lambda e^{-\\lambda x}$ use $g(x) = x e ^{-\\lambda x}$. To sample from only the mean get\n",
    "\n",
    "$$\\frac{x\\cdot \\lambda e^{-\\lambda x}}{x e ^{-\\lambda x}} = \\lambda.$$"
   ]
  },
  {
   "cell_type": "code",
   "execution_count": 5,
   "metadata": {},
   "outputs": [
    {
     "name": "stdout",
     "output_type": "stream",
     "text": [
      "[7.69084652e-04 5.82547562e-05 2.38576115e-04 2.36643190e-03\n",
      " 3.80846481e-04]\n",
      "0.5819767068693265\n",
      "Actual variance of sample at optimal lambda is 0.0007374226510054708\n",
      "Using importance sampling\n",
      "Mean is 1.7271, with confidence interval [1.727,1.728]\n",
      "Width of CI = 0.001\n"
     ]
    }
   ],
   "source": [
    "beta = 0.005\n",
    "k = 2\n",
    "def g(x, beta, k):\n",
    "    return 1/ (np.exp(1) - 1)\n",
    "def f(x):\n",
    "    return (x > 0) * (x < 1)\n",
    "def h(x):\n",
    "    return np.exp(x)\n",
    "\n",
    "def pareto(beta, k, n = 10000): \n",
    "    Us = np.random.uniform(size = n)\n",
    "    Xs = beta * (Us**(-1/k)-1)\n",
    "    return Xs\n",
    "\n",
    "ys = pareto(beta, k)\n",
    "print(ys[0:5])\n",
    "\n",
    "\n",
    "zs = f(ys) * h(ys) / g(ys, beta, k)\n",
    "print(g(ys, beta, k))\n",
    "\n",
    "mean = np.mean(zs)\n",
    "var = np.var(zs)\n",
    "alpha = 0.05\n",
    "print(\"Actual variance of sample at optimal lambda is\", var)\n",
    "s = np.sqrt(var / len(zs))\n",
    "a = stats.norm.ppf(alpha/2)\n",
    "b = stats.norm.ppf(1 - alpha/2)\n",
    "print(\"Using importance sampling\")\n",
    "print(f\"Mean is {round(mean,4)}, with confidence interval [{round(mean + s * a,3)},{round(mean + s * b,3)}]\")\n",
    "print(f\"Width of CI = {round(abs(mean + s * a - mean - s*b),3)}\")"
   ]
  },
  {
   "cell_type": "code",
   "execution_count": null,
   "metadata": {},
   "outputs": [],
   "source": []
  }
 ],
 "metadata": {
  "kernelspec": {
   "display_name": "Python 3",
   "language": "python",
   "name": "python3"
  },
  "language_info": {
   "codemirror_mode": {
    "name": "ipython",
    "version": 3
   },
   "file_extension": ".py",
   "mimetype": "text/x-python",
   "name": "python",
   "nbconvert_exporter": "python",
   "pygments_lexer": "ipython3",
   "version": "3.10.11"
  }
 },
 "nbformat": 4,
 "nbformat_minor": 2
}
