{
 "cells": [
  {
   "cell_type": "markdown",
   "metadata": {},
   "source": [
    "Write a program implementing a linear congruential generator\n",
    "(LCG). Be sure that the program works correctly using only\n",
    "integer representation."
   ]
  },
  {
   "cell_type": "code",
   "execution_count": 1,
   "metadata": {},
   "outputs": [],
   "source": [
    "import numpy as np\n",
    "import matplotlib.pyplot as plt\n",
    "from scipy.stats import norm\n"
   ]
  },
  {
   "cell_type": "code",
   "execution_count": 2,
   "metadata": {},
   "outputs": [],
   "source": [
    "#LCG\n",
    "def LCG(M, a, c,N, xval = 3):\n",
    "    x = np.zeros(N)\n",
    "    for i in range(N):\n",
    "        xval = (a*xval + c) % M\n",
    "        x[i] = xval\n",
    "    x/=M\n",
    "    return x"
   ]
  },
  {
   "cell_type": "markdown",
   "metadata": {},
   "source": [
    " Generate 10.000 (pseudo-) random numbers and present\n",
    "these numbers in a histogramme (e.g. 10 classes)."
   ]
  },
  {
   "cell_type": "code",
   "execution_count": 12,
   "metadata": {},
   "outputs": [],
   "source": [
    "M = 213111\n",
    "a = 122\n",
    "b = 4\n",
    "N = 10000"
   ]
  },
  {
   "cell_type": "code",
   "execution_count": 13,
   "metadata": {},
   "outputs": [
    {
     "data": {
      "image/png": "[encoded data removed]",
      "text/plain": [
       "<Figure size 640x480 with 1 Axes>"
      ]
     },
     "metadata": {},
     "output_type": "display_data"
    }
   ],
   "source": [
    "randn = LCG(M,a,b, N)\n",
    "#plot histogram\n",
    "plt.hist(randn, bins=16)\n",
    "plt.show()"
   ]
  },
  {
   "cell_type": "code",
   "execution_count": 14,
   "metadata": {},
   "outputs": [
    {
     "name": "stdout",
     "output_type": "stream",
     "text": [
      "[1 0 0 ... 0 0 1]\n"
     ]
    }
   ],
   "source": [
    "#get histogram from vector\n",
    "hist, bins = np.histogram(randn, bins=M)\n",
    "print(hist)"
   ]
  },
  {
   "cell_type": "code",
   "execution_count": 15,
   "metadata": {},
   "outputs": [],
   "source": [
    "#import chi squared\n",
    "from scipy.stats import chisquare\n",
    "from scipy.stats import chi2\n",
    "#calculate chi squared\n",
    "def chisquare_test(randn, k):\n",
    "    n = len(randn)\n",
    "    p = 1/k\n",
    "    test = 0\n",
    "    for i in range(k):\n",
    "        xval = randn[randn == i/k]\n",
    "        ni = len(xval)\n",
    "        test += (ni - n*p)**2/(n*p)     \n",
    "    pval = 1 - chi2.cdf(test, k-1)\n",
    "    return test, pval"
   ]
  },
  {
   "cell_type": "code",
   "execution_count": 16,
   "metadata": {},
   "outputs": [
    {
     "name": "stdout",
     "output_type": "stream",
     "text": [
      "(203111.0000004942, 1.0)\n",
      "Power_divergenceResult(statistic=203111.0000000001, pvalue=1.0)\n"
     ]
    }
   ],
   "source": [
    "#chisquare test with own function\n",
    "chi2_test = chisquare_test(randn, M)\n",
    "print(chi2_test)\n",
    "\n",
    "#inbuilt chisquare test\n",
    "chi2_test2 = chisquare(hist)\n",
    "print(chi2_test2)"
   ]
  },
  {
   "cell_type": "code",
   "execution_count": 8,
   "metadata": {},
   "outputs": [
    {
     "name": "stdout",
     "output_type": "stream",
     "text": [
      "0.9984000000000001 1.0\n"
     ]
    }
   ],
   "source": [
    "#Kolmogorov-Smirnov test (homemade)\n",
    "from scipy.stats import uniform\n",
    "\n",
    "\n",
    "def KS_test(randn):\n",
    "    Ftrue = np.arange(0,1,1/len(randn))\n",
    "    #import uniform distribution cdf\n",
    "    F = uniform.cdf(randn)\n",
    "    #calculate max difference\n",
    "    D = np.max(np.abs(Ftrue - F))\n",
    "    #calculate p value\n",
    "    n = len(randn)\n",
    "    pval = 1 - np.exp(-2*n*D**2)\n",
    "    return D, pval\n",
    "D,pval = KS_test(randn)\n",
    "print(D, pval)"
   ]
  },
  {
   "cell_type": "markdown",
   "metadata": {},
   "source": [
    "## Run test"
   ]
  },
  {
   "cell_type": "code",
   "execution_count": 17,
   "metadata": {},
   "outputs": [],
   "source": [
    "def run_test_1(randn, M):\n",
    "    #median value\n",
    "    median = np.median(randn)\n",
    "    #number of observations below median\n",
    "    possamps = randn < median\n",
    "    negsamps = randn > median\n",
    "    posruns = 0\n",
    "    negruns = 0\n",
    "    n1 = np.sum(possamps)\n",
    "    n2 = np.sum(negsamps)\n",
    "    n = n1+n2\n",
    "    for i in range(len(randn)):\n",
    "        if i == 0:\n",
    "            continue\n",
    "        if possamps[i] != possamps[i-1] and possamps[i] == True:\n",
    "            posruns += 1\n",
    "        if negsamps[i] != negsamps[i-1] and negsamps[i] == True:\n",
    "            negruns += 1\n",
    "    T = posruns + negruns\n",
    "    #normal cdf\n",
    "\n",
    "    mean = 2*n1*n2/n + 1\n",
    "    var = np.exp(np.log(2)+np.log(n1)+np.log(n2)+np.log(2*n1*n2 - n)-np.log(n**2)-np.log((n-1)))\n",
    "    Z = (T-mean)/np.sqrt(var)\n",
    "    pval = 1 - norm.cdf(Z)\n",
    "    return T, pval"
   ]
  },
  {
   "cell_type": "code",
   "execution_count": 18,
   "metadata": {},
   "outputs": [
    {
     "name": "stdout",
     "output_type": "stream",
     "text": [
      "5032 0.2676186870781596\n"
     ]
    }
   ],
   "source": [
    "T,p = run_test_1(randn, M)\n",
    "print(T,p)"
   ]
  },
  {
   "cell_type": "markdown",
   "metadata": {},
   "source": [
    "## run test 2"
   ]
  },
  {
   "cell_type": "code",
   "execution_count": 19,
   "metadata": {},
   "outputs": [],
   "source": [
    "## Run test 2\n",
    "def run_test_2(randn, M):\n",
    "    # up/down \n",
    "    run_lengths = []\n",
    "    current_run_length = 1\n",
    "    for i in range(1, len(randn)):\n",
    "        if randn[i] > randn[i-1]:\n",
    "            current_run_length = min(current_run_length + 1, 6)\n",
    "        else:\n",
    "            run_lengths.append(current_run_length)\n",
    "            current_run_length = 1\n",
    "    #get vector of count for each run length\n",
    "    R, _ = np.histogram(run_lengths, bins=6)\n",
    "    \n",
    "    A  = np.array([\n",
    "        [4529.4, 9044.9, 13568, 18091, 22615, 27892],\n",
    "        [9044.9, 18097, 27139, 36187, 45234, 55789],\n",
    "        [13568, 27139, 40721, 54281, 67852, 83685],\n",
    "        [18091, 36187, 54281, 72414, 90470, 111580],\n",
    "        [22615, 45234, 67852, 90470, 113262, 139476],\n",
    "        [27892, 55789, 83685, 111580, 139476, 172860]\n",
    "        ])\n",
    "    B = np.array([1/6, 5/24, 11/120, 19/720, 29/5040, 1/840])\n",
    "    n = len(randn)\n",
    "    Z = (R-B*n).T@A@(R-B*n)/(n-6)\n",
    "    #chisquare test\n",
    "    pval = 1 - chi2.cdf(Z, 6)\n",
    "    return Z, pval"
   ]
  },
  {
   "cell_type": "code",
   "execution_count": 20,
   "metadata": {},
   "outputs": [
    {
     "name": "stdout",
     "output_type": "stream",
     "text": [
      "3.780284093862839 0.7063810041916394\n"
     ]
    }
   ],
   "source": [
    "Z,pval = run_test_2(randn, M)\n",
    "print(Z, pval)"
   ]
  },
  {
   "cell_type": "code",
   "execution_count": 24,
   "metadata": {},
   "outputs": [],
   "source": [
    "def run_test_3(randn):\n",
    "    n = len(randn)\n",
    "    updown = np.zeros(n-1, dtype=bool)\n",
    "    for i in range(1, n):\n",
    "        updown[i-1] = randn[i] > randn[i-1]\n",
    "    #count number of runs\n",
    "    runs = []\n",
    "    current_run = 1\n",
    "    for i in range(1, n-1):\n",
    "        if updown[i] != updown[i-1]:\n",
    "            runs.append(current_run)\n",
    "            current_run = 1\n",
    "        else:\n",
    "            current_run += 1\n",
    "    # number of unique runs\n",
    "    #print(runs)\n",
    "    X = len(runs)\n",
    "    Z = (X - (2*n-1)/3)/np.sqrt((16*n-29)/90)\n",
    "    p = 2*(1 - norm.cdf(abs(Z)))\n",
    "    return Z, p\n"
   ]
  },
  {
   "cell_type": "code",
   "execution_count": 25,
   "metadata": {},
   "outputs": [
    {
     "name": "stdout",
     "output_type": "stream",
     "text": [
      "-0.26881796384626494 0.7880697688655041\n"
     ]
    }
   ],
   "source": [
    "Z,p = run_test_3(randn)\n",
    "print(Z,p)"
   ]
  },
  {
   "cell_type": "code",
   "execution_count": 26,
   "metadata": {},
   "outputs": [],
   "source": [
    "def correlation_coefficient(randn, h=2):\n",
    "    c = np.sum(randn[:-h]*randn[h:])/len(randn)\n",
    "    Z = (c - 1/4)/np.sqrt(7/(144*len(randn)))\n",
    "    p = 2*(1 - norm.cdf(abs(Z)))\n",
    "    return c, p"
   ]
  },
  {
   "cell_type": "code",
   "execution_count": 27,
   "metadata": {},
   "outputs": [
    {
     "name": "stdout",
     "output_type": "stream",
     "text": [
      "0.2490575931327739 0.6690620984061004\n"
     ]
    }
   ],
   "source": [
    "c,p = correlation_coefficient(randn, h =2)\n",
    "print(c,p)"
   ]
  }
 ],
 "metadata": {
  "kernelspec": {
   "display_name": "Python 3",
   "language": "python",
   "name": "python3"
  },
  "language_info": {
   "codemirror_mode": {
    "name": "ipython",
    "version": 3
   },
   "file_extension": ".py",
   "mimetype": "text/x-python",
   "name": "python",
   "nbconvert_exporter": "python",
   "pygments_lexer": "ipython3",
   "version": "3.10.11"
  }
 },
 "nbformat": 4,
 "nbformat_minor": 2
}
