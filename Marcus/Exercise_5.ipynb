{
 "cells": [
  {
   "cell_type": "markdown",
   "metadata": {},
   "source": [
    "# Exercise 5: Variance reduction methods\n",
    "\n",
    "### 1\n",
    "stimate the integral � 1\n",
    "0 exdx by simulation (the crude Monte Carlo\n",
    "estimator). Use eg. an estimator based on 100 samples and present\n",
    "the result as the point estimator and a confidence interval."
   ]
  },
  {
   "cell_type": "code",
   "execution_count": 35,
   "metadata": {},
   "outputs": [],
   "source": [
    "from scipy.stats import expon\n",
    "import numpy as np\n",
    "from discrete_event import Customer, main_loop, confidence_intervals, erlang_b"
   ]
  },
  {
   "cell_type": "code",
   "execution_count": 36,
   "metadata": {},
   "outputs": [
    {
     "name": "stdout",
     "output_type": "stream",
     "text": [
      "Estimated integral 1.7276565504107708 True integral 1.718281828459045\n",
      " Confidence interval for the mean [1.6347455995686173, 1.8205675012529243]\n"
     ]
    }
   ],
   "source": [
    "\n",
    "n = 100\n",
    "#function to generate random number\n",
    "U = np.random.uniform(0,1,n)\n",
    "X = np.exp(U)\n",
    "theta = np.mean(X)\n",
    "print(\"Estimated integral\", theta, \"True integral\", np.exp(1)-1)\n",
    "\n",
    "#confidence interval for the mean\n",
    "s = np.std(X)\n",
    "#get t statistic for 95% confidence interval and n-1 degrees of freedom\n",
    "t = 1.984\n",
    "confint = [theta - 1.984*s/np.sqrt(n), theta + 1.984*s/np.sqrt(n)]\n",
    "print(\" Confidence interval for the mean\", confint)"
   ]
  },
  {
   "cell_type": "markdown",
   "metadata": {},
   "source": [
    "### 2\n",
    "Estimate the integral � 1\n",
    "0 exdx using antithetic variables, with\n",
    "comparable computer ressources."
   ]
  },
  {
   "cell_type": "code",
   "execution_count": 37,
   "metadata": {},
   "outputs": [
    {
     "name": "stdout",
     "output_type": "stream",
     "text": [
      "Antithetic variables: Estimated integral 1.7172177506809079 True integral 1.718281828459045\n",
      "Antithetic variables: Confidence interval for the mean [1.7055568317434524, 1.7288786696183633]\n"
     ]
    }
   ],
   "source": [
    "#Antithetic variables\n",
    "U = np.random.uniform(0,1,n)\n",
    "Y = (np.exp(U) + np.exp(1-U))/2\n",
    "theta = np.mean(Y)\n",
    "#confidence interval for the mean\n",
    "s = np.std(Y)\n",
    "#get t statistic for 95% confidence interval and n-1 degrees of freedom\n",
    "t = 1.984\n",
    "confint = [theta - 1.984*s/np.sqrt(n), theta + 1.984*s/np.sqrt(n)]\n",
    "print(\"Antithetic variables: Estimated integral\", theta, \"True integral\", np.exp(1)-1)\n",
    "print(\"Antithetic variables: Confidence interval for the mean\", confint)"
   ]
  },
  {
   "cell_type": "markdown",
   "metadata": {},
   "source": [
    "### 3\n",
    "Estimate the integral � 1\n",
    "0 exdx using a control variable, with\n",
    "comparable computer ressources."
   ]
  },
  {
   "cell_type": "code",
   "execution_count": 38,
   "metadata": {},
   "outputs": [
    {
     "name": "stdout",
     "output_type": "stream",
     "text": [
      "Control variates: Estimated integral 1.7292819229523722 True integral 1.718281828459045\n",
      "Control variates: Confidence interval for the mean (1.7173658032529928, 1.7411980426517515)\n"
     ]
    }
   ],
   "source": [
    "U = np.random.uniform(0,1,n)\n",
    "X = np.exp(U)\n",
    "c = -0.14086/(1/12)#- np.cov(X,Y)[0,1]/np.var(Y)\n",
    "Z = X + c*(U-1/2)\n",
    "theta = np.mean(Z)\n",
    "print(\"Control variates: Estimated integral\", theta, \"True integral\", np.exp(1)-1)\n",
    "print(\"Control variates: Confidence interval for the mean\", confidence_intervals(Z))"
   ]
  },
  {
   "cell_type": "markdown",
   "metadata": {},
   "source": [
    "### 4\n",
    " Estimate the integral � 1\n",
    "0 exdx using stratified sampling, with\n",
    "comparable computer ressources."
   ]
  },
  {
   "cell_type": "code",
   "execution_count": 39,
   "metadata": {},
   "outputs": [
    {
     "name": "stdout",
     "output_type": "stream",
     "text": [
      "Stratified sampling: Estimated integral 1.718559283413585 True integral 1.718281828459045\n",
      "Stratified sampling: Confidence interval for the mean (1.7087687303693377, 1.7283498364578322)\n"
     ]
    }
   ],
   "source": [
    "#\n",
    "U = np.random.uniform(0,1,(10,10))\n",
    "W = np.sum([np.exp((U[i]+ i)/10) for i in range(10)], axis=0)/10\n",
    "theta = np.mean(W)\n",
    "print(\"Stratified sampling: Estimated integral\", theta, \"True integral\", np.exp(1)-1)\n",
    "print(\"Stratified sampling: Confidence interval for the mean\", confidence_intervals(W))\n",
    "\n",
    "\n",
    "### KOM TILBAGE TIL DET HER WTF"
   ]
  },
  {
   "cell_type": "markdown",
   "metadata": {},
   "source": [
    "### 5\n",
    "Use control variates to reduce the variance of the estimator in\n",
    "exercise 4 (Poisson arrivals)."
   ]
  },
  {
   "cell_type": "markdown",
   "metadata": {},
   "source": [
    "Before control variables"
   ]
  },
  {
   "cell_type": "code",
   "execution_count": 40,
   "metadata": {},
   "outputs": [
    {
     "name": "stdout",
     "output_type": "stream",
     "text": [
      "Blocking probability [1.260e-05 1.212e-05 1.242e-05 1.266e-05 1.225e-05 1.223e-05 1.196e-05\n",
      " 1.113e-05 1.169e-05 1.188e-05]\n",
      "Estimated blocking probability 0.12094 True blocking probability 0.12166106425295149\n",
      "Confidence interval for the mean (0.1182508400002975, 0.12362915999970252)\n",
      "Interval width 0.0053783199994050235\n"
     ]
    }
   ],
   "source": [
    "#arrival time differences are exponentially distributed\n",
    "lam = 1\n",
    "total_customers = 10000\n",
    "m = 10\n",
    "s = 8\n",
    "repititions = 10\n",
    "#arrival time differences are exponentially distributed\n",
    "arrival_interval = lambda : np.random.exponential(1/lam, size = total_customers)\n",
    "service_time =lambda : expon.rvs(scale = s, size = total_customers)\n",
    "\n",
    "blocked = main_loop(arrival_interval, service_time, m, repititions = repititions)/total_customers\n",
    "print(\"Blocking probability\", blocked/total_customers)\n",
    "#confidence interval for the mean\n",
    "theta = np.mean(blocked)\n",
    "confint = confidence_intervals(blocked)\n",
    "print(\"Estimated blocking probability\", theta, \"True blocking probability\", erlang_b(m, lam*s))\n",
    "print(\"Confidence interval for the mean\", confint)\n",
    "print(\"Interval width\", confint[1]-confint[0])"
   ]
  },
  {
   "cell_type": "code",
   "execution_count": 41,
   "metadata": {},
   "outputs": [
    {
     "data": {
      "text/plain": [
       "0.0010834813024114612"
      ]
     },
     "execution_count": 41,
     "metadata": {},
     "output_type": "execute_result"
    }
   ],
   "source": [
    "#Empirical covariance between exponential and uniform random variables\n",
    "n = 10000\n",
    "U = np.random.uniform(0,1,n)\n",
    "X = np.random.exponential(1/s,n)\n",
    "#c for minimizing variance of X + c(U-1/2)\n",
    "c = -np.cov(X,U)[0,1]/np.var(U)\n",
    "c"
   ]
  },
  {
   "cell_type": "code",
   "execution_count": 42,
   "metadata": {},
   "outputs": [],
   "source": [
    "#arrival time differences are exponentially distributed\n",
    "arrival_interval = lambda : np.random.exponential(1/lam, size = total_customers) + c*(np.random.uniform(0,1, size = total_customers)-1/2)\n",
    "service_time =lambda : expon.rvs(scale = s, size = total_customers)"
   ]
  },
  {
   "cell_type": "code",
   "execution_count": 43,
   "metadata": {},
   "outputs": [
    {
     "name": "stdout",
     "output_type": "stream",
     "text": [
      "Blocking probability [1.249e-05 1.210e-05 1.279e-05 1.216e-05 1.169e-05 1.326e-05 1.188e-05\n",
      " 1.209e-05 1.256e-05 1.189e-05]\n",
      "Estimated blocking probability 0.12290999999999999 True blocking probability 0.12166106425295149\n",
      "Confidence interval for the mean (0.12007992695783305, 0.12574007304216692)\n",
      "Interval width 0.005660146084333864\n"
     ]
    }
   ],
   "source": [
    "np.random.seed(0)\n",
    "blocked = main_loop(arrival_interval, service_time, m, repititions = repititions)/total_customers\n",
    "print(\"Blocking probability\", blocked/total_customers)\n",
    "#confidence interval for the mean\n",
    "theta = np.mean(blocked)\n",
    "confint = confidence_intervals(blocked)\n",
    "print(\"Estimated blocking probability\", theta, \"True blocking probability\", erlang_b(m, lam*s))\n",
    "print(\"Confidence interval for the mean\", confint)\n",
    "print(\"Interval width\", confint[1]-confint[0])"
   ]
  },
  {
   "cell_type": "markdown",
   "metadata": {},
   "source": [
    "### 6\n",
    "Demonstrate the effect of using common random numbers in\n",
    "exercise 4 for the difference between Poisson arrivals (Part 1) and a\n",
    "renewal process with hyperexponential interarrival times. Remark:\n",
    "You might need to do some thinking and some re-programming."
   ]
  },
  {
   "cell_type": "code",
   "execution_count": 47,
   "metadata": {},
   "outputs": [
    {
     "data": {
      "text/plain": [
       "-0.008252904636120526"
      ]
     },
     "execution_count": 47,
     "metadata": {},
     "output_type": "execute_result"
    }
   ],
   "source": [
    "#compute c for minimizing variance of X + c(U-1/2)\n",
    "# hyper exponential inter arrival times. The parameters for\n",
    "#the hyper exponential distribution should be\n",
    "p1 = 0.8\n",
    "λ1 = 0.8333\n",
    "p2 = 0.2\n",
    "λ2 = 5.0\n",
    "U = np.random.uniform(0,1,n)\n",
    "X = np.random.choice([expon.rvs(scale = 1/λ1), expon.rvs(scale = 1/λ2)], n, p=[p1, p2])\n",
    "c = -np.cov(X,U)[0,1]/np.var(U)\n",
    "c"
   ]
  },
  {
   "cell_type": "code",
   "execution_count": 45,
   "metadata": {},
   "outputs": [],
   "source": [
    "arrival_interval = lambda : np.random.choice([expon.rvs(scale = 1/λ1), expon.rvs(scale = 1/λ2)], total_customers, p=[p1, p2]) + c*(np.random.uniform(0,1, size = total_customers)-1/2)\n",
    "service_time = lambda : expon.rvs(scale = s, size = total_customers)"
   ]
  },
  {
   "cell_type": "code",
   "execution_count": 49,
   "metadata": {},
   "outputs": [
    {
     "name": "stdout",
     "output_type": "stream",
     "text": [
      "Blocking probability:  [0.1573 0.6779 0.0796 0.8492 0.5475 0.3808 0.0172 0.7817 0.     0.2191]\n"
     ]
    }
   ],
   "source": [
    "np.random.seed(0)\n",
    "blocked_hyperexp = main_loop(arrival_interval,service_time, m)\n",
    "print(\"Blocking probability: \", blocked_hyperexp/total_customers)"
   ]
  },
  {
   "cell_type": "markdown",
   "metadata": {},
   "source": [
    "### 7\n",
    "For a standard normal random variable Z ∼ N(0, 1) using the crude\n",
    "Monte Carlo estimator estimate the probability Z > a. Then try\n",
    "importance sampling with a normal density with mean a and\n",
    "variance σ2. For the expirements start using σ2 = 1, use different\n",
    "values of a (e.g. 2 and 4), and different sample sizes. If time\n",
    "permits experiment with other values for σ2. Finally discuss the\n",
    "efficiency of the methods"
   ]
  },
  {
   "cell_type": "code",
   "execution_count": 103,
   "metadata": {},
   "outputs": [
    {
     "name": "stdout",
     "output_type": "stream",
     "text": [
      "Monte Carlo probability that Z > a 0.0233\n"
     ]
    }
   ],
   "source": [
    "# Z is standard normal\n",
    "n = 10000\n",
    "Z = np.random.normal(0,1,n)\n",
    "a = 2\n",
    "#Compute the probability that Z > a\n",
    "p_a = np.mean(Z > a)\n",
    "print(\"Monte Carlo probability that Z > a\", p_a)\n"
   ]
  },
  {
   "cell_type": "code",
   "execution_count": 104,
   "metadata": {},
   "outputs": [
    {
     "name": "stdout",
     "output_type": "stream",
     "text": [
      "Importance sampling probability that Z > a 0.022176200932133038\n"
     ]
    }
   ],
   "source": [
    "#part 2 Sample from Normal(a, sigma^2)\n",
    "sigma = 1\n",
    "\n",
    "#Y is Normal(a, sigma^2)\n",
    "Y = np.random.normal(a, sigma, n)\n",
    "#g is the probability density of Y\n",
    "g = np.exp(-(Y-a)**2/(2*sigma**2))/np.sqrt(2*np.pi*sigma**2)\n",
    "#f is standard normal density evaluated at Y\n",
    "f = np.exp(-Y**2/2)/np.sqrt(2*np.pi)\n",
    "h = Y > a\n",
    "\n",
    "theta = np.mean(h*(f/g))\n",
    "print(\"Importance sampling probability that Z > a\", theta)"
   ]
  },
  {
   "cell_type": "markdown",
   "metadata": {},
   "source": [
    "### 8\n",
    "Use importance sampling with g(x) = λ exp (−λ ∗ x) to calculate\n",
    "the integral � 1\n",
    "0 exdx of Question 1. Try to find the optimal value of\n",
    "λ by calculating the variance of h(X)f(X)/g(X) and verify by\n",
    "simulation. Note that importance sampling with the exponential\n",
    "distribution will not reduce the variance"
   ]
  },
  {
   "cell_type": "code",
   "execution_count": 200,
   "metadata": {},
   "outputs": [
    {
     "name": "stderr",
     "output_type": "stream",
     "text": [
      "C:\\Users\\MGAJ\\AppData\\Local\\Temp\\ipykernel_26684\\2529840966.py:5: RuntimeWarning: overflow encountered in exp\n",
      "  h = np.exp(X)\n",
      "C:\\Users\\MGAJ\\AppData\\Local\\Temp\\ipykernel_26684\\2529840966.py:7: RuntimeWarning: invalid value encountered in multiply\n",
      "  vars = np.var(h*f/g, axis = 0)\n"
     ]
    }
   ],
   "source": [
    "lambdas = np.arange(0.002, 3, 0.001)\n",
    "X = np.random.exponential(1/lambdas, (n, len(lambdas)))\n",
    "#g is the probability density of X\n",
    "g = lambdas*np.exp(-lambdas*X)\n",
    "h = np.exp(X)\n",
    "f = X <= 1 \n",
    "vars = np.var(h*f/g, axis = 0)"
   ]
  },
  {
   "cell_type": "code",
   "execution_count": 201,
   "metadata": {},
   "outputs": [
    {
     "data": {
      "image/png": "[encoded data removed]",
      "text/plain": [
       "<Figure size 640x480 with 1 Axes>"
      ]
     },
     "metadata": {},
     "output_type": "display_data"
    }
   ],
   "source": [
    "#plot vars log scale of lambas\n",
    "import matplotlib.pyplot as plt\n",
    "plt.plot(lambdas, vars)\n",
    "plt.yscale(\"log\")\n",
    "plt.xlabel(\"lambda\")\n",
    "plt.ylabel(\"Variance\")\n",
    "plt.show()"
   ]
  },
  {
   "cell_type": "code",
   "execution_count": 205,
   "metadata": {},
   "outputs": [
    {
     "name": "stdout",
     "output_type": "stream",
     "text": [
      "Optimal lambda 1.417\n"
     ]
    }
   ],
   "source": [
    "#optimal lambda (exclude nans)\n",
    "optimal_lambda = lambdas[np.nanargmin(vars)]\n",
    "print(\"Optimal lambda\", optimal_lambda)"
   ]
  },
  {
   "cell_type": "code",
   "execution_count": 207,
   "metadata": {},
   "outputs": [
    {
     "name": "stdout",
     "output_type": "stream",
     "text": [
      "Importance sampling E(exp(U)) 1.7135425615311268 True value 1.718281828459045\n"
     ]
    }
   ],
   "source": [
    "#f is the density of U\n",
    "# Y is Exp(lam)\n",
    "lam = 10000\n",
    "Y = np.random.exponential(1/optimal_lambda, n)\n",
    "#g is the density of Y\n",
    "g = optimal_lambda*np.exp(-optimal_lambda*Y)\n",
    "h = np.exp(Y)\n",
    "f = Y <= 1\n",
    "theta = np.mean(h*(f/g))\n",
    "print(\"Importance sampling E(exp(U))\", theta, \"True value\", np.exp(1)-1)"
   ]
  },
  {
   "cell_type": "markdown",
   "metadata": {},
   "source": [
    "### 8\n",
    "For the Pareto case derive the IS estimator for the mean using the\n",
    "first moment distribution as sampling distribution. Is the approach\n",
    "meaningful? and could this be done in general? With this insight\n",
    "could you change the choice of g(x) in the previous questio"
   ]
  },
  {
   "cell_type": "code",
   "execution_count": null,
   "metadata": {},
   "outputs": [],
   "source": [
    "#pareto\n",
    "alpha = 2\n",
    "n = 10000\n",
    "X = np.random.pareto(alpha, n)\n",
    "#g is the density of X\n",
    "g = alpha*X**(alpha+1)"
   ]
  }
 ],
 "metadata": {
  "kernelspec": {
   "display_name": "Python 3",
   "language": "python",
   "name": "python3"
  },
  "language_info": {
   "codemirror_mode": {
    "name": "ipython",
    "version": 3
   },
   "file_extension": ".py",
   "mimetype": "text/x-python",
   "name": "python",
   "nbconvert_exporter": "python",
   "pygments_lexer": "ipython3",
   "version": "3.11.9"
  }
 },
 "nbformat": 4,
 "nbformat_minor": 2
}
