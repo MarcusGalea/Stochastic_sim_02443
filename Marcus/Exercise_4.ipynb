{
 "cells": [
  {
   "cell_type": "markdown",
   "metadata": {},
   "source": [
    "# Exercise 4\n",
    "Write a discrete event simulation program for a blocking system,\n",
    "i.e. a system with m service units and no waiting room. The offered\n",
    "traffic A is the product of the mean arrival rate and the mean\n",
    "service time\n",
    "## 1\n",
    "The arrival process is modelled as a Poisson process. Report the\n",
    "fraction of blocked customers, and a confidence interval for this\n",
    "fraction. Choose the service time distribution as exponential.\n",
    "Parameters: m = 10, mean service time = 8 time units, mean\n",
    "time between customers = 1 time unit (corresponding to an\n",
    "offered traffic of 8 Erlang), 10 x 10.000 customers.\n"
   ]
  },
  {
   "cell_type": "code",
   "execution_count": 70,
   "metadata": {},
   "outputs": [],
   "source": [
    "import numpy as np\n",
    "#import poission\n",
    "import math\n",
    "from scipy.stats import poisson\n",
    "#import exponential\n",
    "from scipy.stats import expon\n",
    "import bisect\n",
    "from discrete_event import Customer, main_loop, confidence_intervals, erlang_b"
   ]
  },
  {
   "cell_type": "code",
   "execution_count": 71,
   "metadata": {},
   "outputs": [],
   "source": [
    "m = 10 #number of servers\n",
    "s = 8 #mean service time\n",
    "lam = 1#arrival_intensity\n",
    "total_customers =10000 #10*10000\n",
    "A = lam*s"
   ]
  },
  {
   "cell_type": "code",
   "execution_count": 72,
   "metadata": {},
   "outputs": [],
   "source": [
    "#arrival time differences are exponentially distributed\n",
    "np.random.seed(0)\n",
    "arrival_interval = lambda : np.random.exponential(1/lam, size = total_customers)\n",
    "service_time =lambda : expon.rvs(scale = s, size = total_customers)"
   ]
  },
  {
   "cell_type": "code",
   "execution_count": 73,
   "metadata": {},
   "outputs": [],
   "source": [
    "#Amount of people blocked in the system\n",
    "blocked_1 = main_loop(arrival_interval, service_time, m)"
   ]
  },
  {
   "cell_type": "code",
   "execution_count": 74,
   "metadata": {},
   "outputs": [
    {
     "name": "stdout",
     "output_type": "stream",
     "text": [
      "Blocking probability:  [0.1214 0.1155 0.1193 0.1204 0.1229 0.1217 0.1233 0.1193 0.1163 0.1163]\n",
      "Mean blocking probability:  0.11964000000000001\n"
     ]
    }
   ],
   "source": [
    "print(\"Blocking probability: \", blocked_1/total_customers)\n",
    "print(\"Mean blocking probability: \", np.mean(blocked_1/total_customers))"
   ]
  },
  {
   "cell_type": "code",
   "execution_count": 75,
   "metadata": {},
   "outputs": [
    {
     "name": "stdout",
     "output_type": "stream",
     "text": [
      "Theoretical blocking probability 0.12166106425295149\n"
     ]
    }
   ],
   "source": [
    "#Theoretical blocking probability\n",
    "print(\"Theoretical blocking probability\",erlang_b(m, A))"
   ]
  },
  {
   "cell_type": "markdown",
   "metadata": {},
   "source": [
    "*Answer*\n",
    "\n",
    "According to the discrete event simulation, the fraction of blocked customers is 0.119 which corresponds well with the theoretical value of 0.1216."
   ]
  },
  {
   "cell_type": "markdown",
   "metadata": {},
   "source": [
    "## 2\n",
    "The arrival process is modelled as a renewal process using the\n",
    "same parameters as in Part 1 when possible. Report the\n",
    "fraction of blocked customers, and a confidence interval for this\n",
    "fraction for at least the following two cases"
   ]
  },
  {
   "cell_type": "code",
   "execution_count": 76,
   "metadata": {},
   "outputs": [
    {
     "name": "stdout",
     "output_type": "stream",
     "text": [
      "Blocking probability:  [0.1186 0.1174 0.1172 0.1283 0.1275 0.1256 0.1194 0.1238 0.1253 0.1228]\n",
      "Mean blocking probability:  0.12259\n"
     ]
    }
   ],
   "source": [
    "# (a) Experiment with Erlang distributed inter arrival times The\n",
    "#Erlang distribution should have a mean of 1\n",
    "inter_arrival = lambda : np.random.gamma(2, 0.5, size = total_customers)\n",
    "service_time = lambda : expon.rvs(scale = s, size = total_customers)\n",
    "blocked_erlang = main_loop(arrival_interval, service_time, m)\n",
    "print(\"Blocking probability: \", blocked_erlang/total_customers)\n",
    "print(\"Mean blocking probability: \", np.mean(blocked_erlang/total_customers))"
   ]
  },
  {
   "cell_type": "markdown",
   "metadata": {},
   "source": [
    "*Answer*\n",
    "\n",
    "When the inter arrival time is Erlang distributed with mean 1 time unit, the fraction of blocked customers is 0.06712 which does not correspond with the theoretical value of 0.1216."
   ]
  },
  {
   "cell_type": "code",
   "execution_count": 77,
   "metadata": {},
   "outputs": [
    {
     "name": "stdout",
     "output_type": "stream",
     "text": [
      "Blocking probability:  [0.9604 0.8635 0.331  0.0562 0.9571 0.5923 0.1861 0.0194 0.8323 0.4622]\n",
      "Mean blocking probability:  0.52605\n"
     ]
    }
   ],
   "source": [
    "# hyper exponential inter arrival times. The parameters for\n",
    "#the hyper exponential distribution should be\n",
    "p1 = 0.8\n",
    "λ1 = 0.8333\n",
    "p2 = 0.2\n",
    "λ2 = 5.0\n",
    "s = 8\n",
    "arrival_interval = lambda : np.random.choice([expon.rvs(scale = 1/λ1), expon.rvs(scale = 1/λ2)], total_customers, p=[p1, p2])\n",
    "\n",
    "service_time = lambda : expon.rvs(scale = s, size = total_customers)\n",
    "\n",
    "blocked_hyperexp = main_loop(arrival_interval,service_time, m)\n",
    "print(\"Blocking probability: \", blocked_hyperexp/total_customers)\n",
    "print(\"Mean blocking probability: \", np.mean(blocked_hyperexp/total_customers))"
   ]
  },
  {
   "cell_type": "markdown",
   "metadata": {},
   "source": [
    "*Answer*\n",
    "For hyperexponential inter arrival time with mean 1 time unit, the fraction of blocked customers is 0.416 which does not correspond with the theoretical value of 0.1216."
   ]
  },
  {
   "cell_type": "markdown",
   "metadata": {},
   "source": [
    "## 3\n",
    "The arrival process is again a Poisson process like in Part 1.\n",
    "Experiment with different service time distributions with the\n",
    "same mean service time and m as in Part 1 and Part 2"
   ]
  },
  {
   "cell_type": "markdown",
   "metadata": {},
   "source": [
    "### a)\n",
    "Constant service time"
   ]
  },
  {
   "cell_type": "code",
   "execution_count": 78,
   "metadata": {},
   "outputs": [
    {
     "name": "stdout",
     "output_type": "stream",
     "text": [
      "Blocking probability:  [0.1208 0.1199 0.1089 0.1157 0.1213 0.127  0.1194 0.1165 0.1095 0.1274]\n",
      "Mean blocking probability:  0.11864\n"
     ]
    }
   ],
   "source": [
    "# a) Constant service time\n",
    "arrival_interval = lambda : np.random.exponential(1/lam, size = total_customers)\n",
    "service_time = lambda : s*np.ones(total_customers)\n",
    "\n",
    "blocked_constant = main_loop(arrival_interval,service_time, m)\n",
    "print(\"Blocking probability: \", blocked_constant/total_customers)\n",
    "print(\"Mean blocking probability: \", np.mean(blocked_constant/total_customers))"
   ]
  },
  {
   "cell_type": "markdown",
   "metadata": {},
   "source": [
    "*Answer*\n",
    "\n",
    "When the service time is constant, the fraction of blocked customers is 0.12164 which corresponds well with the theoretical value of 0.1216."
   ]
  },
  {
   "cell_type": "code",
   "execution_count": 79,
   "metadata": {},
   "outputs": [
    {
     "name": "stdout",
     "output_type": "stream",
     "text": [
      "Blocking probability for k= 1.05:  [0.0431 0.0626 0.0317 0.0615 0.0538 0.0954 0.0977 0.0519 0.0996 0.087 ]\n",
      "Mean blocking probability:  0.06843\n",
      "Blocking probability for k= 2.05:  [0. 0. 0. 0. 0. 0. 0. 0. 0. 0.]\n",
      "Mean blocking probability:  0.0\n"
     ]
    }
   ],
   "source": [
    "# Pareto distributed service times with at least k = 1.05 and\n",
    "#k = 2.05.\n",
    "\n",
    "k = 1.05 \n",
    "service_time = lambda : np.random.pareto(k, total_customers)\n",
    "blocked_pareto_1 = main_loop(arrival_interval, service_time, m)\n",
    "print(\"Blocking probability for k= 1.05: \", blocked_pareto_1/total_customers)\n",
    "print(\"Mean blocking probability: \", np.mean(blocked_pareto_1/total_customers))\n",
    "k = 2.05\n",
    "service_time = lambda : np.random.pareto(k, total_customers)\n",
    "blocked_pareto_2 = main_loop(arrival_interval, service_time, m)\n",
    "print(\"Blocking probability for k= 2.05: \", blocked_pareto_2/total_customers)\n",
    "print(\"Mean blocking probability: \", np.mean(blocked_pareto_2/total_customers))"
   ]
  },
  {
   "cell_type": "markdown",
   "metadata": {},
   "source": [
    "*Answer*\n",
    "\n",
    "When the service time is pareto distributed with k=1.05 the mean blocking fraction is 0.089 which is somewhat close to the theoretical value of 0.1216. For k=2.05 no customers are blocked."
   ]
  },
  {
   "cell_type": "code",
   "execution_count": 81,
   "metadata": {},
   "outputs": [
    {
     "name": "stdout",
     "output_type": "stream",
     "text": [
      "Blocking probability:  [0.1251 0.1237 0.1308 0.1255 0.1286 0.1228 0.1243 0.1219 0.1203 0.1313]\n",
      "Mean blocking probability:  0.12542999999999999\n"
     ]
    }
   ],
   "source": [
    "#absolute gaussian distributed service times with mean s and standard deviation s/4 #99%+ of the values are positive\n",
    "service_time = lambda : np.random.normal(s, s/4, size = total_customers)\n",
    "blocked_gauss = main_loop(arrival_interval, service_time, m)\n",
    "print(\"Blocking probability: \", blocked_gauss/total_customers)\n",
    "print(\"Mean blocking probability: \", np.mean(blocked_gauss/total_customers))"
   ]
  },
  {
   "cell_type": "markdown",
   "metadata": {},
   "source": [
    "*Answer*\n",
    "\n",
    "When the service time is normally distributed with mean 8 time units and standard deviation 0.5 time units, the fraction of blocked customers is 0.12198 which corresponds well with the theoretical value of 0.1216."
   ]
  },
  {
   "cell_type": "markdown",
   "metadata": {},
   "source": [
    "## 4\n",
    "Compare confidence intervals for Parts 1, 2, and 3 then\n",
    "interpret and explain differences if any."
   ]
  },
  {
   "cell_type": "code",
   "execution_count": 82,
   "metadata": {},
   "outputs": [
    {
     "name": "stdout",
     "output_type": "stream",
     "text": [
      "Confidence intervals for blocking probability\n",
      "Part 1:  (0.11798123311342432, 0.1212987668865757)\n",
      "Part 2 (Erlang distribution):  (0.12013640407890787, 0.12504359592109215)\n",
      "part 3 (Hyper exponential distribution):  (0.3094141139524663, 0.7426858860475337)\n",
      "Part 4 (Constant service time):  (0.11496185750357601, 0.12231814249642398)\n",
      "Part 5 (Pareto distribution k=1.05):  (0.053946513723001646, 0.08291348627699836)\n",
      "Part 5 (Pareto distribution k=2.05):  (0.0, 0.0)\n",
      "Part 6 (Gaussian distribution):  (0.12325253791399252, 0.12760746208600746)\n"
     ]
    }
   ],
   "source": [
    "#show confidence intervals for all the experiments\n",
    "print(\"Confidence intervals for blocking probability\")\n",
    "print(\"Part 1: \", confidence_intervals(blocked_1/total_customers))\n",
    "print(\"Part 2 (Erlang distribution): \", confidence_intervals(blocked_erlang/total_customers))\n",
    "print(\"part 3 (Hyper exponential distribution): \", confidence_intervals(blocked_hyperexp/total_customers))\n",
    "print(\"Part 4 (Constant service time): \", confidence_intervals(blocked_constant/total_customers))\n",
    "print(\"Part 5 (Pareto distribution k=1.05): \", confidence_intervals(blocked_pareto_1/total_customers))\n",
    "print(\"Part 5 (Pareto distribution k=2.05): \", confidence_intervals(blocked_pareto_2/total_customers))\n",
    "print(\"Part 6 (Gaussian distribution): \", confidence_intervals(blocked_gauss/total_customers))\n"
   ]
  },
  {
   "cell_type": "markdown",
   "metadata": {},
   "source": [
    "For part 1-3 (Varying arrival intervals) the only confidence interval which includes the Erlang's B-value is the one where the inter-arrival times are exponential, since it's the only arrival process which is Poisson.  "
   ]
  }
 ],
 "metadata": {
  "kernelspec": {
   "display_name": "Python 3",
   "language": "python",
   "name": "python3"
  },
  "language_info": {
   "codemirror_mode": {
    "name": "ipython",
    "version": 3
   },
   "file_extension": ".py",
   "mimetype": "text/x-python",
   "name": "python",
   "nbconvert_exporter": "python",
   "pygments_lexer": "ipython3",
   "version": "3.11.9"
  }
 },
 "nbformat": 4,
 "nbformat_minor": 2
}
