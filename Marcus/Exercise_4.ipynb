{
 "cells": [
  {
   "cell_type": "markdown",
   "metadata": {},
   "source": [
    "# Exercise 4\n",
    "Write a discrete event simulation program for a blocking system,\n",
    "i.e. a system with m service units and no waiting room. The offered\n",
    "traffic A is the product of the mean arrival rate and the mean\n",
    "service time\n",
    "## 1\n",
    "The arrival process is modelled as a Poisson process. Report the\n",
    "fraction of blocked customers, and a confidence interval for this\n",
    "fraction. Choose the service time distribution as exponential.\n",
    "Parameters: m = 10, mean service time = 8 time units, mean\n",
    "time between customers = 1 time unit (corresponding to an\n",
    "offered traffic of 8 Erlang), 10 x 10.000 customers.\n"
   ]
  },
  {
   "cell_type": "code",
   "execution_count": 13,
   "metadata": {},
   "outputs": [],
   "source": [
    "import numpy as np\n",
    "#import poission\n",
    "import math\n",
    "from scipy.stats import poisson\n",
    "#import exponential\n",
    "from scipy.stats import expon\n",
    "import bisect\n",
    "from discrete_event import Customer, main_loop, confidence_intervals, erlang_b"
   ]
  },
  {
   "cell_type": "code",
   "execution_count": 14,
   "metadata": {},
   "outputs": [],
   "source": [
    "m = 10 #number of servers\n",
    "s = 8 #mean service time\n",
    "lam = 1#arrival_intensity\n",
    "total_customers =10000 #10*10000\n",
    "A = lam*s"
   ]
  },
  {
   "cell_type": "code",
   "execution_count": 15,
   "metadata": {},
   "outputs": [],
   "source": [
    "#arrival time differences are exponentially distributed\n",
    "arrival_interval = lambda : np.random.exponential(1/lam, size = total_customers)\n",
    "service_time =lambda : expon.rvs(scale = s, size = total_customers)"
   ]
  },
  {
   "cell_type": "code",
   "execution_count": 16,
   "metadata": {},
   "outputs": [],
   "source": [
    "blocked_1 = main_loop(arrival_interval, service_time, m)"
   ]
  },
  {
   "cell_type": "code",
   "execution_count": 17,
   "metadata": {},
   "outputs": [
    {
     "name": "stdout",
     "output_type": "stream",
     "text": [
      "Blocking probability:  [0.1165 0.1171 0.116  0.124  0.1312 0.1185 0.1108 0.1183 0.1267 0.1214]\n"
     ]
    }
   ],
   "source": [
    "print(\"Blocking probability: \", blocked_1/total_customers)"
   ]
  },
  {
   "cell_type": "code",
   "execution_count": 18,
   "metadata": {},
   "outputs": [
    {
     "name": "stdout",
     "output_type": "stream",
     "text": [
      "0.12166106425295149\n"
     ]
    }
   ],
   "source": [
    "#Theoretical blocking probability\n",
    "print(erlang_b(m, A))"
   ]
  },
  {
   "cell_type": "markdown",
   "metadata": {},
   "source": [
    "## 2\n",
    "The arrival process is modelled as a renewal process using the\n",
    "same parameters as in Part 1 when possible. Report the\n",
    "fraction of blocked customers, and a confidence interval for this\n",
    "fraction for at least the following two cases"
   ]
  },
  {
   "cell_type": "code",
   "execution_count": 19,
   "metadata": {},
   "outputs": [
    {
     "name": "stdout",
     "output_type": "stream",
     "text": [
      "Blocking probability:  [0.0729 0.0622 0.0644 0.0668 0.064  0.0629 0.0682 0.0714 0.0699 0.0648]\n"
     ]
    }
   ],
   "source": [
    "# (a) Experiment with Erlang distributed inter arrival times The\n",
    "#Erlang distribution should have a mean of 1\n",
    "arrival_interval = lambda : np.random.gamma(m, 1/m, size = total_customers)\n",
    "service_time = lambda : expon.rvs(scale = s, size = total_customers)\n",
    "blocked_erlang = main_loop(arrival_interval, service_time, m)\n",
    "print(\"Blocking probability: \", blocked_erlang/total_customers)"
   ]
  },
  {
   "cell_type": "code",
   "execution_count": 31,
   "metadata": {},
   "outputs": [
    {
     "name": "stdout",
     "output_type": "stream",
     "text": [
      "Blocking probability:  [0.6983 0.2149 0.8652 0.1719 0.0085 0.026  0.7156 0.8765 0.0257 0.239 ]\n"
     ]
    }
   ],
   "source": [
    "# hyper exponential inter arrival times. The parameters for\n",
    "#the hyper exponential distribution should be\n",
    "p1 = 0.8\n",
    "λ1 = 0.8333\n",
    "p2 = 0.2\n",
    "λ2 = 5.0\n",
    "s = 8\n",
    "arrival_interval = lambda : np.random.choice([expon.rvs(scale = 1/λ1), expon.rvs(scale = 1/λ2)], total_customers, p=[p1, p2])\n",
    "\n",
    "service_time = lambda : expon.rvs(scale = s, size = total_customers)\n",
    "\n",
    "blocked_hyperexp = main_loop(arrival_interval,service_time, m)\n",
    "print(\"Blocking probability: \", blocked_hyperexp/total_customers)"
   ]
  },
  {
   "cell_type": "markdown",
   "metadata": {},
   "source": [
    "## 3\n",
    "The arrival process is again a Poisson process like in Part 1.\n",
    "Experiment with different service time distributions with the\n",
    "same mean service time and m as in Part 1 and Part 2"
   ]
  },
  {
   "cell_type": "code",
   "execution_count": 21,
   "metadata": {},
   "outputs": [
    {
     "name": "stdout",
     "output_type": "stream",
     "text": [
      "Blocking probability:  [0.1182 0.1235 0.1239 0.1219 0.1138 0.1173 0.1188 0.1257 0.1252 0.1321]\n"
     ]
    }
   ],
   "source": [
    "# a) Constant service time\n",
    "arrival_interval = lambda : np.random.exponential(1/lam, size = total_customers)\n",
    "service_time = lambda : s*np.ones(total_customers)\n",
    "\n",
    "blocked_constant = main_loop(arrival_interval,service_time, m)\n",
    "print(\"Blocking probability: \", blocked_constant/total_customers)"
   ]
  },
  {
   "cell_type": "code",
   "execution_count": 22,
   "metadata": {},
   "outputs": [
    {
     "name": "stdout",
     "output_type": "stream",
     "text": [
      "Blocking probability for k= 1.05:  [0.0624 0.1036 0.0559 0.0592 0.1007 0.0647 0.021  0.0712 0.0613 0.038 ]\n",
      "Blocking probability for k= 2.05:  [0. 0. 0. 0. 0. 0. 0. 0. 0. 0.]\n"
     ]
    }
   ],
   "source": [
    "# Pareto distributed service times with at least k = 1.05 and\n",
    "#k = 2.05.\n",
    "\n",
    "k = 1.05 \n",
    "service_time = lambda : np.random.pareto(k, total_customers)\n",
    "blocked_pareto_1 = main_loop(arrival_interval, service_time, m)\n",
    "print(\"Blocking probability for k= 1.05: \", blocked_pareto_1/total_customers)\n",
    "k = 2.05\n",
    "service_time = lambda : np.random.pareto(k, total_customers)\n",
    "blocked_pareto_2 = main_loop(arrival_interval, service_time, m)\n",
    "print(\"Blocking probability for k= 2.05: \", blocked_pareto_2/total_customers)"
   ]
  },
  {
   "cell_type": "code",
   "execution_count": 23,
   "metadata": {},
   "outputs": [
    {
     "name": "stdout",
     "output_type": "stream",
     "text": [
      "Blocking probability:  [0.1171 0.1227 0.1182 0.126  0.1175 0.1176 0.114  0.1223 0.1181 0.1185]\n"
     ]
    }
   ],
   "source": [
    "#absolute gaussian distributed service times with mean s and standard deviation s/4 #99%+ of the values are positive\n",
    "service_time = lambda : np.random.normal(s, s/4, size = total_customers)\n",
    "blocked_gauss = main_loop(arrival_interval, service_time, m)\n",
    "print(\"Blocking probability: \", blocked_gauss/total_customers)"
   ]
  },
  {
   "cell_type": "markdown",
   "metadata": {},
   "source": [
    "## 4\n",
    "Compare confidence intervals for Parts 1, 2, and 3 then\n",
    "interpret and explain differences if any."
   ]
  },
  {
   "cell_type": "code",
   "execution_count": 24,
   "metadata": {},
   "outputs": [
    {
     "name": "stdout",
     "output_type": "stream",
     "text": [
      "Confidence intervals for blocking probability\n",
      "Part 1:  (0.11657297436305107, 0.12352702563694891)\n",
      "Part 2 (Erlang distribution):  (0.0645684486804111, 0.06893155131958888)\n",
      "part 3 (Hyper exponential distribution):  (0.09916457347899715, 0.39041542652100286)\n",
      "Part 4 (Constant service time):  (0.11896708502167731, 0.12511291497832272)\n",
      "Part 5 (Pareto distribution k=1.05):  (0.04914517554932847, 0.07845482445067152)\n",
      "Part 5 (Pareto distribution k=2.05):  (0.0, 0.0)\n",
      "Part 6 (Gaussian distribution):  (0.11716593923394605, 0.12123406076605397)\n"
     ]
    }
   ],
   "source": [
    "#show confidence intervals for all the experiments\n",
    "print(\"Confidence intervals for blocking probability\")\n",
    "print(\"Part 1: \", confidence_intervals(blocked_1/total_customers))\n",
    "print(\"Part 2 (Erlang distribution): \", confidence_intervals(blocked_erlang/total_customers))\n",
    "print(\"part 3 (Hyper exponential distribution): \", confidence_intervals(blocked_hyperexp/total_customers))\n",
    "print(\"Part 4 (Constant service time): \", confidence_intervals(blocked_constant/total_customers))\n",
    "print(\"Part 5 (Pareto distribution k=1.05): \", confidence_intervals(blocked_pareto_1/total_customers))\n",
    "print(\"Part 5 (Pareto distribution k=2.05): \", confidence_intervals(blocked_pareto_2/total_customers))\n",
    "print(\"Part 6 (Gaussian distribution): \", confidence_intervals(blocked_gauss/total_customers))\n"
   ]
  }
 ],
 "metadata": {
  "kernelspec": {
   "display_name": "Python 3",
   "language": "python",
   "name": "python3"
  },
  "language_info": {
   "codemirror_mode": {
    "name": "ipython",
    "version": 3
   },
   "file_extension": ".py",
   "mimetype": "text/x-python",
   "name": "python",
   "nbconvert_exporter": "python",
   "pygments_lexer": "ipython3",
   "version": "3.11.9"
  }
 },
 "nbformat": 4,
 "nbformat_minor": 2
}
