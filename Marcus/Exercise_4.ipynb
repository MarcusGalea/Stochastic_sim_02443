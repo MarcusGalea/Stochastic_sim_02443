{
 "cells": [
  {
   "cell_type": "markdown",
   "metadata": {},
   "source": [
    "# Exercise 4\n",
    "Write a discrete event simulation program for a blocking system,\n",
    "i.e. a system with m service units and no waiting room. The offered\n",
    "traffic A is the product of the mean arrival rate and the mean\n",
    "service time\n",
    "## 1\n",
    "The arrival process is modelled as a Poisson process. Report the\n",
    "fraction of blocked customers, and a confidence interval for this\n",
    "fraction. Choose the service time distribution as exponential.\n",
    "Parameters: m = 10, mean service time = 8 time units, mean\n",
    "time between customers = 1 time unit (corresponding to an\n",
    "offered traffic of 8 Erlang), 10 x 10.000 customers.\n"
   ]
  },
  {
   "cell_type": "code",
   "execution_count": 39,
   "metadata": {},
   "outputs": [],
   "source": [
    "import numpy as np\n",
    "#import poission\n",
    "import math\n",
    "from scipy.stats import poisson\n",
    "#import exponential\n",
    "from scipy.stats import expon\n",
    "import bisect\n",
    "from discrete_event import Customer, main_loop, confidence_intervals, erlang_b"
   ]
  },
  {
   "cell_type": "code",
   "execution_count": 40,
   "metadata": {},
   "outputs": [],
   "source": [
    "m = 10 #number of servers\n",
    "s = 8 #mean service time\n",
    "lam = 1#arrival_intensity\n",
    "total_customers =10000 #10*10000\n",
    "A = lam*s"
   ]
  },
  {
   "cell_type": "code",
   "execution_count": 41,
   "metadata": {},
   "outputs": [],
   "source": [
    "#arrival time differences are exponentially distributed\n",
    "np.random.seed(1)\n",
    "arrival_interval = lambda : np.random.exponential(1/lam, size = total_customers)\n",
    "service_time =lambda : expon.rvs(scale = s, size = total_customers)"
   ]
  },
  {
   "cell_type": "code",
   "execution_count": 42,
   "metadata": {},
   "outputs": [],
   "source": [
    "#Amount of people blocked in the system\n",
    "blocked_1 = main_loop(arrival_interval, service_time, m)"
   ]
  },
  {
   "cell_type": "code",
   "execution_count": 43,
   "metadata": {},
   "outputs": [
    {
     "name": "stdout",
     "output_type": "stream",
     "text": [
      "Blocking probability:  [0.1293 0.1192 0.117  0.1172 0.1246 0.1248 0.1026 0.1302 0.1202 0.1262]\n",
      "Mean blocking probability:  0.12113000000000003\n"
     ]
    }
   ],
   "source": [
    "print(\"Blocking probability: \", blocked_1/total_customers)\n",
    "print(\"Mean blocking probability: \", np.mean(blocked_1/total_customers))"
   ]
  },
  {
   "cell_type": "code",
   "execution_count": 44,
   "metadata": {},
   "outputs": [
    {
     "name": "stdout",
     "output_type": "stream",
     "text": [
      "Theoretical blocking probability 0.12166106425295149\n"
     ]
    }
   ],
   "source": [
    "#Theoretical blocking probability\n",
    "print(\"Theoretical blocking probability\",erlang_b(m, A))"
   ]
  },
  {
   "cell_type": "markdown",
   "metadata": {},
   "source": [
    "*Answer*\n",
    "\n",
    "According to the discrete event simulation, the fraction of blocked customers is 0.1211 which corresponds well with the theoretical value of 0.1216."
   ]
  },
  {
   "cell_type": "markdown",
   "metadata": {},
   "source": [
    "## 2\n",
    "The arrival process is modelled as a renewal process using the\n",
    "same parameters as in Part 1 when possible. Report the\n",
    "fraction of blocked customers, and a confidence interval for this\n",
    "fraction for at least the following two cases"
   ]
  },
  {
   "cell_type": "code",
   "execution_count": 45,
   "metadata": {},
   "outputs": [
    {
     "name": "stdout",
     "output_type": "stream",
     "text": [
      "Blocking probability:  [0.1293 0.1192 0.117  0.1172 0.1246 0.1248 0.1026 0.1302 0.1202 0.1262]\n",
      "Mean blocking probability:  0.12113000000000003\n"
     ]
    }
   ],
   "source": [
    "# (a) Experiment with Erlang distributed inter arrival times The\n",
    "#Erlang distribution should have a mean of 1\n",
    "np.random.seed(1)\n",
    "inter_arrival = lambda : np.random.gamma(2, 0.5, size = total_customers)\n",
    "service_time = lambda : expon.rvs(scale = s, size = total_customers)\n",
    "blocked_erlang = main_loop(arrival_interval, service_time, m)\n",
    "print(\"Blocking probability: \", blocked_erlang/total_customers)\n",
    "print(\"Mean blocking probability: \", np.mean(blocked_erlang/total_customers))"
   ]
  },
  {
   "cell_type": "markdown",
   "metadata": {},
   "source": [
    "*Answer*\n",
    "\n",
    "When the inter arrival time is Erlang distributed with mean 1 time unit, the fraction of blocked customers is 0.1211 which does correspond with the theoretical value of 0.1216."
   ]
  },
  {
   "cell_type": "code",
   "execution_count": 46,
   "metadata": {},
   "outputs": [
    {
     "name": "stdout",
     "output_type": "stream",
     "text": [
      "Blocking probability:  [0.3505 0.     0.81   0.474  0.5987 0.0033 0.1212 0.     0.0347 0.8817]\n",
      "Mean blocking probability:  0.32741\n"
     ]
    }
   ],
   "source": [
    "# hyper exponential inter arrival times. The parameters for\n",
    "#the hyper exponential distribution should be\n",
    "np.random.seed(1)\n",
    "p1 = 0.8\n",
    "λ1 = 0.8333\n",
    "p2 = 0.2\n",
    "λ2 = 5.0\n",
    "s = 8\n",
    "arrival_interval = lambda : np.random.choice([expon.rvs(scale = 1/λ1), expon.rvs(scale = 1/λ2)], total_customers, p=[p1, p2])\n",
    "\n",
    "service_time = lambda : expon.rvs(scale = s, size = total_customers)\n",
    "\n",
    "blocked_hyperexp = main_loop(arrival_interval,service_time, m)\n",
    "print(\"Blocking probability: \", blocked_hyperexp/total_customers)\n",
    "print(\"Mean blocking probability: \", np.mean(blocked_hyperexp/total_customers))"
   ]
  },
  {
   "cell_type": "markdown",
   "metadata": {},
   "source": [
    "*Answer*\n",
    "For hyperexponential inter arrival time with mean 1 time unit, the fraction of blocked customers is 0.32741 which does not correspond with the theoretical value of 0.1216."
   ]
  },
  {
   "cell_type": "markdown",
   "metadata": {},
   "source": [
    "## 3\n",
    "The arrival process is again a Poisson process like in Part 1.\n",
    "Experiment with different service time distributions with the\n",
    "same mean service time and m as in Part 1 and Part 2"
   ]
  },
  {
   "cell_type": "markdown",
   "metadata": {},
   "source": [
    "### a)\n",
    "Constant service time"
   ]
  },
  {
   "cell_type": "code",
   "execution_count": 47,
   "metadata": {},
   "outputs": [
    {
     "name": "stdout",
     "output_type": "stream",
     "text": [
      "Blocking probability:  [0.1275 0.1158 0.1224 0.1271 0.1214 0.1166 0.1185 0.1242 0.1255 0.1169]\n",
      "Mean blocking probability:  0.12159\n"
     ]
    }
   ],
   "source": [
    "# a) Constant service time\n",
    "np.random.seed(1)\n",
    "arrival_interval = lambda : np.random.exponential(1/lam, size = total_customers)\n",
    "service_time = lambda : s*np.ones(total_customers)\n",
    "\n",
    "blocked_constant = main_loop(arrival_interval,service_time, m)\n",
    "print(\"Blocking probability: \", blocked_constant/total_customers)\n",
    "print(\"Mean blocking probability: \", np.mean(blocked_constant/total_customers))"
   ]
  },
  {
   "cell_type": "markdown",
   "metadata": {},
   "source": [
    "*Answer*\n",
    "\n",
    "When the service time is constant, the fraction of blocked customers is 0.12159 which corresponds well with the theoretical value of 0.1216."
   ]
  },
  {
   "cell_type": "code",
   "execution_count": 48,
   "metadata": {},
   "outputs": [
    {
     "name": "stdout",
     "output_type": "stream",
     "text": [
      "Blocking probability for k= 1.05:  [0.0016 0.0004 0.0023 0.0006 0.0004 0.0006 0.0008 0.0026 0.0034 0.002 ]\n",
      "Mean blocking probability:  0.00147\n",
      "Blocking probability for k= 2.05:  [0.122  0.1216 0.1173 0.1044 0.122  0.1268 0.1172 0.1195 0.1223 0.113 ]\n",
      "Mean blocking probability:  0.11861\n"
     ]
    }
   ],
   "source": [
    "# Pareto distributed service times with at least k = 1.05 and\n",
    "#k = 2.05.\n",
    "np.random.seed(1)\n",
    "def pareto():\n",
    "    beta = (k-1)/(k)*8\n",
    "    Us = np.random.uniform(0, 1, total_customers)\n",
    "    xs = beta/(Us**(1/k))\n",
    "    return xs\n",
    "\n",
    "k = 1.05 \n",
    "service_time = lambda : np.random.pareto(k, total_customers)\n",
    "service_time = pareto\n",
    "blocked_pareto_1 = main_loop(arrival_interval, service_time, m)\n",
    "print(\"Blocking probability for k= 1.05: \", blocked_pareto_1/total_customers)\n",
    "print(\"Mean blocking probability: \", np.mean(blocked_pareto_1/total_customers))\n",
    "k = 2.05\n",
    "service_time = lambda : np.random.pareto(k, total_customers)\n",
    "service_time = pareto\n",
    "blocked_pareto_2 = main_loop(arrival_interval, service_time, m)\n",
    "print(\"Blocking probability for k= 2.05: \", blocked_pareto_2/total_customers)\n",
    "print(\"Mean blocking probability: \", np.mean(blocked_pareto_2/total_customers))"
   ]
  },
  {
   "cell_type": "markdown",
   "metadata": {},
   "source": [
    "*Answer*\n",
    "\n",
    "When the service time is pareto distributed with k=1.05 the mean blocking fraction is 0.00147 which is not at all close to the theoretical value of 0.1216. For k=2.05 the blocking fraction is 0.11861.\n",
    "\n",
    "To have an accurate mean we change $\\beta$ to be $\\beta = \\frac{k-1}{k} \\cdot 8$, to ensure a mean service time of 8 time units. The result using $k = 1.05$ is heavily skewed towards not rejecting customers. The Pareto distribution with small $k$ is difficult to sample enough large values from, to actually see a mean service time of $8$ time units, so we see a lot of small service times, resulting in few blocks. The effect is gone once $k > 2$."
   ]
  },
  {
   "cell_type": "code",
   "execution_count": 49,
   "metadata": {},
   "outputs": [
    {
     "name": "stdout",
     "output_type": "stream",
     "text": [
      "Blocking probability:  [0.1291 0.1198 0.1193 0.1172 0.1159 0.1188 0.1258 0.1189 0.1295 0.1292]\n",
      "Mean blocking probability:  0.12235\n"
     ]
    }
   ],
   "source": [
    "#absolute gaussian distributed service times with mean s and standard deviation s/4 #99%+ of the values are positive\n",
    "np.random.seed(1)\n",
    "service_time = lambda : np.random.normal(s, s/4, size = total_customers)\n",
    "blocked_gauss = main_loop(arrival_interval, service_time, m)\n",
    "print(\"Blocking probability: \", blocked_gauss/total_customers)\n",
    "print(\"Mean blocking probability: \", np.mean(blocked_gauss/total_customers))"
   ]
  },
  {
   "cell_type": "markdown",
   "metadata": {},
   "source": [
    "*Answer*\n",
    "\n",
    "When the service time is normally distributed with mean 8 time units and standard deviation 2 time units, the fraction of blocked customers is 0.12235 which corresponds well with the theoretical value of 0.1216."
   ]
  },
  {
   "cell_type": "markdown",
   "metadata": {},
   "source": [
    "## 4\n",
    "Compare confidence intervals for Parts 1, 2, and 3 then\n",
    "interpret and explain differences if any."
   ]
  },
  {
   "cell_type": "code",
   "execution_count": 50,
   "metadata": {},
   "outputs": [
    {
     "name": "stdout",
     "output_type": "stream",
     "text": [
      "Exponential: \n",
      "CI is: (0.11640692459344552, 0.12585307540655452)\n",
      "Which contains the theoretical value\n",
      "Erlang: \n",
      "CI is: (0.11640692459344552, 0.12585307540655452)\n",
      "Which contains the theoretical value\n",
      "Hyper exponential: \n",
      "CI is: (0.12340100412897476, 0.5314189958710251)\n",
      "Which does not contain the theoretical value\n",
      "Constant: \n",
      "CI is: (0.11897467394308091, 0.1242053260569191)\n",
      "Which contains the theoretical value\n",
      "Pareto k=1.05: \n",
      "CI is: (0.0008427693757476441, 0.002097230624252356)\n",
      "Which does not contain the theoretical value\n",
      "Pareto k=2.05: \n",
      "CI is: (0.11494051042459581, 0.12227948957540417)\n",
      "Which contains the theoretical value\n",
      "Gaussian: \n",
      "CI is: (0.11916570869423038, 0.12553429130576962)\n",
      "Which contains the theoretical value\n"
     ]
    }
   ],
   "source": [
    "#show confidence intervals for all the experiments\n",
    "p = erlang_b(m, A)\n",
    "\n",
    "bs = np.array([blocked_1, blocked_erlang, blocked_hyperexp, blocked_constant, blocked_pareto_1, blocked_pareto_2, blocked_gauss])\n",
    "bs = bs / total_customers\n",
    "titles = [\"Exponential\", \"Erlang\", \"Hyper exponential\", \"Constant\", \"Pareto k=1.05\", \"Pareto k=2.05\", \"Gaussian\"]\n",
    "#print(\"Theoretical blocking probability\",erlang_b(m, A))\n",
    "#print(\"Confidence intervals for blocking probability\")\n",
    "\n",
    "for i, b in enumerate(bs):\n",
    "    print(f\"{titles[i]}: \")\n",
    "    print(\"CI is:\", confidence_intervals(b))\n",
    "    if p > confidence_intervals(b)[0] and p < confidence_intervals(b)[1]:\n",
    "        print(\"Which contains the theoretical value\")\n",
    "    else:\n",
    "        print(\"Which does not contain the theoretical value\")\n",
    "    #print(\"\\n\")\n",
    "\n",
    "# print(\"Part 1: \", confidence_intervals(blocked_1/total_customers))\n",
    "# if p > confidence_intervals(blocked_1/total_customers)[0] and p < confidence_intervals(blocked_1/total_customers)[1]:\n",
    "#     print(\"Which contains the theoretical value\")\n",
    "# else:\n",
    "#     print(\"Which does not contain the theoretical value\")\n",
    "# print(\"Part 2 (Erlang distribution): \", confidence_intervals(blocked_erlang/total_customers))\n",
    "# print(\"part 3 (Hyper exponential distribution): \", confidence_intervals(blocked_hyperexp/total_customers))\n",
    "# print(\"Part 4 (Constant service time): \", confidence_intervals(blocked_constant/total_customers))\n",
    "# print(\"Part 5 (Pareto distribution k=1.05): \", confidence_intervals(blocked_pareto_1/total_customers))\n",
    "# print(\"Part 5 (Pareto distribution k=2.05): \", confidence_intervals(blocked_pareto_2/total_customers))\n",
    "# print(\"Part 6 (Gaussian distribution): \", confidence_intervals(blocked_gauss/total_customers))\n"
   ]
  },
  {
   "cell_type": "markdown",
   "metadata": {},
   "source": [
    "For part 1-3 (Varying arrival intervals) the only confidence interval which includes the Erlang's B-value is the one where the inter-arrival times are exponential, since it's the only arrival process which is Poisson.  "
   ]
  }
 ],
 "metadata": {
  "kernelspec": {
   "display_name": "Python 3",
   "language": "python",
   "name": "python3"
  },
  "language_info": {
   "codemirror_mode": {
    "name": "ipython",
    "version": 3
   },
   "file_extension": ".py",
   "mimetype": "text/x-python",
   "name": "python",
   "nbconvert_exporter": "python",
   "pygments_lexer": "ipython3",
   "version": "3.10.11"
  }
 },
 "nbformat": 4,
 "nbformat_minor": 2
}
