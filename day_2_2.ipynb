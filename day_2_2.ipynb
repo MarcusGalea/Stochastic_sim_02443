{
 "cells": [
  {
   "cell_type": "markdown",
   "metadata": {},
   "source": [
    "# Exercise 3"
   ]
  },
  {
   "cell_type": "markdown",
   "metadata": {},
   "source": [
    "Generate simulated values from the following distributions\n",
    "* 1 Exponential Distribution "
   ]
  },
  {
   "cell_type": "code",
   "execution_count": 2,
   "metadata": {},
   "outputs": [],
   "source": [
    "import numpy as np"
   ]
  },
  {
   "cell_type": "code",
   "execution_count": 3,
   "metadata": {},
   "outputs": [],
   "source": [
    "N = 10000"
   ]
  },
  {
   "cell_type": "code",
   "execution_count": 6,
   "metadata": {},
   "outputs": [],
   "source": [
    "# Exponential distribution\n",
    "def exp_dist_samp(N, lam):\n",
    "    U = np.random.rand(N)\n",
    "    return -np.log(1 - U) / lam"
   ]
  },
  {
   "cell_type": "code",
   "execution_count": 7,
   "metadata": {},
   "outputs": [
    {
     "name": "stdout",
     "output_type": "stream",
     "text": [
      "[0.98971829 1.37813322 0.365303   ... 1.73866418 2.34165223 0.54146394]\n"
     ]
    }
   ],
   "source": [
    "X = exp_dist_samp(N, 1)\n",
    "print(X)"
   ]
  },
  {
   "cell_type": "code",
   "execution_count": 11,
   "metadata": {},
   "outputs": [],
   "source": [
    "def stand_norm_dist_samp(N):\n",
    "    i = 0\n",
    "    X = np.zeros(N)\n",
    "    while i < N//2:\n",
    "        V1,V2 = 2*np.random.rand(2) -1\n",
    "        R2 = V1**2 + V2**2\n",
    "        if R2 > 1:\n",
    "            continue\n",
    "        cos2piu2 = V1/np.sqrt(R2)\n",
    "        sin2piu2 = V2/np.sqrt(R2)\n",
    "        U = np.random.rand(N//2)\n",
    "        quantity = np.sqrt(-2*np.log(U))\n",
    "        \n",
    "        X = np.zeros(N)\n",
    "        X[i] = quantity * cos2piu2\n",
    "        X[-i] = quantity * sin2piu2\n",
    "        i+= 1\n",
    "    return X\n",
    "    "
   ]
  },
  {
   "cell_type": "code",
   "execution_count": 17,
   "metadata": {},
   "outputs": [
    {
     "name": "stdout",
     "output_type": "stream",
     "text": [
      "[ 0.03724352 -0.05355209 -0.53604523 ... -0.13520361 -0.5089448\n",
      " -0.43600578] [ 0.69855783  0.48819939 -0.20938153 ... -0.52676163  0.2486479\n",
      " -0.28441622]\n"
     ]
    },
    {
     "data": {
      "image/png": "[encoded data removed]",
      "text/plain": [
       "<Figure size 640x480 with 1 Axes>"
      ]
     },
     "metadata": {},
     "output_type": "display_data"
    }
   ],
   "source": [
    "X = stand_norm_dist_samp(N)\n",
    "#plot histogram\n",
    "import matplotlib.pyplot as plt\n",
    "plt.hist(X, bins=100, density=True)\n",
    "plt.show()\n"
   ]
  },
  {
   "cell_type": "code",
   "execution_count": null,
   "metadata": {},
   "outputs": [],
   "source": []
  }
 ],
 "metadata": {
  "kernelspec": {
   "display_name": "Python 3",
   "language": "python",
   "name": "python3"
  },
  "language_info": {
   "codemirror_mode": {
    "name": "ipython",
    "version": 3
   },
   "file_extension": ".py",
   "mimetype": "text/x-python",
   "name": "python",
   "nbconvert_exporter": "python",
   "pygments_lexer": "ipython3",
   "version": "3.11.9"
  }
 },
 "nbformat": 4,
 "nbformat_minor": 2
}
