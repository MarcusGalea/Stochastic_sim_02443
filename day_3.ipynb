{
 "cells": [
  {
   "cell_type": "markdown",
   "metadata": {},
   "source": [
    "# Exercise 4\n",
    "Write a discrete event simulation program for a blocking system,\n",
    "i.e. a system with m service units and no waiting room. The offered\n",
    "traffic A is the product of the mean arrival rate and the mean\n",
    "service time\n",
    "## 1\n",
    "The arrival process is modelled as a Poisson process. Report the\n",
    "fraction of blocked customers, and a confidence interval for this\n",
    "fraction. Choose the service time distribution as exponential.\n",
    "Parameters: m = 10, mean service time = 8 time units, mean\n",
    "time between customers = 1 time unit (corresponding to an\n",
    "offered traffic of 8 Erlang), 10 x 10.000 customers.\n"
   ]
  },
  {
   "cell_type": "code",
   "execution_count": 139,
   "metadata": {},
   "outputs": [],
   "source": [
    "import numpy as np\n",
    "#import poission\n",
    "import math\n",
    "from scipy.stats import poisson\n",
    "#import exponential\n",
    "from scipy.stats import expon\n",
    "import bisect"
   ]
  },
  {
   "cell_type": "code",
   "execution_count": 140,
   "metadata": {},
   "outputs": [],
   "source": [
    "m = 10 #number of servers\n",
    "s = 8 #mean service time\n",
    "lam = 1#arrival_intensity\n",
    "total_customers =10000 #10*10000\n",
    "A = lam*s"
   ]
  },
  {
   "cell_type": "code",
   "execution_count": 141,
   "metadata": {},
   "outputs": [],
   "source": [
    "class Customer:\n",
    "    def __init__(self, arrival_time, service_time):\n",
    "        self.service_time = service_time\n",
    "        self.blocked = False\n",
    "        \n",
    "        self.event = \"arrival\"\n",
    "        self.event_time = arrival_time\n",
    "      \n",
    "                \n",
    "    def arrive(self, servers, event_list):\n",
    "        if servers < 1:\n",
    "            self.blocked = True\n",
    "            return servers\n",
    "        else:\n",
    "            servers -= 1\n",
    "            servers = max(servers, 0)\n",
    "            self.event = \"departure\"\n",
    "            self.event_time += self.service_time\n",
    "            bisect.insort(event_list, self, key=lambda x: x.event_time)\n",
    "            return servers\n",
    "    \n",
    "    def depart(self, servers):\n",
    "        servers += 1\n",
    "        servers = min(servers, m)\n",
    "        return servers"
   ]
  },
  {
   "cell_type": "code",
   "execution_count": 142,
   "metadata": {},
   "outputs": [],
   "source": [
    "#arrival time differences are exponentially distributed\n",
    "arrival_intervals = np.random.exponential(1/lam, total_customers)\n",
    "arrival_times = np.cumsum(arrival_intervals)"
   ]
  },
  {
   "cell_type": "code",
   "execution_count": 143,
   "metadata": {},
   "outputs": [],
   "source": [
    "\n",
    "event_list = [Customer(arrival_time, expon.rvs(scale = s)) for arrival_time in arrival_times]\n",
    "def main_loop(event_list, m, repititions = 10):\n",
    "    blocked = np.zeros(repititions)\n",
    "    for i in range(repititions):\n",
    "        event_list.sort(key=lambda x: x.event_time)\n",
    "        open_servers = m\n",
    "        while event_list:\n",
    "            event = event_list.pop(0)\n",
    "            if event.event == \"arrival\":\n",
    "                open_servers = event.arrive(open_servers, event_list)\n",
    "                blocked[i] += event.blocked\n",
    "            elif event.event == \"departure\":\n",
    "                open_servers = event.depart(open_servers)\n",
    "        return blocked\n",
    "\n",
    "blocked_1 = main_loop(event_list, m)"
   ]
  },
  {
   "cell_type": "code",
   "execution_count": 144,
   "metadata": {},
   "outputs": [
    {
     "name": "stdout",
     "output_type": "stream",
     "text": [
      "Blocking probability:  [0.1094 0.     0.     0.     0.     0.     0.     0.     0.     0.    ]\n"
     ]
    }
   ],
   "source": [
    "print(\"Blocking probability: \", blocked_1/total_customers)"
   ]
  },
  {
   "cell_type": "code",
   "execution_count": 145,
   "metadata": {},
   "outputs": [],
   "source": [
    "#Erlang B formula\n",
    "def erlang_b(m, A):\n",
    "    return (A**m/math.factorial(m))/np.sum([A**i/math.factorial(i) for i in range(m+1)])"
   ]
  },
  {
   "cell_type": "code",
   "execution_count": 146,
   "metadata": {},
   "outputs": [
    {
     "name": "stdout",
     "output_type": "stream",
     "text": [
      "0.12166106425295149\n"
     ]
    }
   ],
   "source": [
    "#Theoretical blocking probability\n",
    "print(erlang_b(m, A))"
   ]
  },
  {
   "cell_type": "markdown",
   "metadata": {},
   "source": [
    "## 2\n",
    "The arrival process is modelled as a renewal process using the\n",
    "same parameters as in Part 1 when possible. Report the\n",
    "fraction of blocked customers, and a confidence interval for this\n",
    "fraction for at least the following two cases"
   ]
  },
  {
   "cell_type": "code",
   "execution_count": 147,
   "metadata": {},
   "outputs": [
    {
     "name": "stdout",
     "output_type": "stream",
     "text": [
      "Blocking probability:  [0.1144 0.     0.     0.     0.     0.     0.     0.     0.     0.    ]\n"
     ]
    }
   ],
   "source": [
    "# (a) Experiment with Erlang distributed inter arrival times The\n",
    "#Erlang distribution should have a mean of 1\n",
    "inter_arrival_times = np.random.gamma(m, 1/m, total_customers)\n",
    "arrabival_times = np.cumsum(inter_arrival_times)\n",
    "event_list = [Customer(arrival_time, expon.rvs(scale = s)) for arrival_time in arrival_times]\n",
    "blocked_erlang = main_loop(event_list, m)\n",
    "print(\"Blocking probability: \", blocked_erlang/total_customers)"
   ]
  },
  {
   "cell_type": "code",
   "execution_count": 148,
   "metadata": {},
   "outputs": [
    {
     "name": "stdout",
     "output_type": "stream",
     "text": [
      "Blocking probability:  [0.1761 0.     0.     0.     0.     0.     0.     0.     0.     0.    ]\n"
     ]
    }
   ],
   "source": [
    "# hyper exponential inter arrival times. The parameters for\n",
    "#the hyper exponential distribution should be\n",
    "p1 = 0.8\n",
    "λ1 = 0.8333\n",
    "p2 = 0.2\n",
    "λ2 = 5.0\n",
    "inter_arrival_times = np.random.choice([expon.rvs(scale = 1/λ1), expon.rvs(scale = 1/λ2)], total_customers, p=[p1, p2])\n",
    "arrival_times = np.cumsum(inter_arrival_times)\n",
    "event_list = [Customer(arrival_time, expon.rvs(scale = s)) for arrival_time in arrival_times]\n",
    "blocked_hyperexp = main_loop(event_list, m)\n",
    "print(\"Blocking probability: \", blocked_hyperexp/total_customers)\n",
    "\n"
   ]
  },
  {
   "cell_type": "markdown",
   "metadata": {},
   "source": [
    "## 3\n",
    "The arrival process is again a Poisson process like in Part 1.\n",
    "Experiment with different service time distributions with the\n",
    "same mean service time and m as in Part 1 and Part 2"
   ]
  },
  {
   "cell_type": "code",
   "execution_count": 149,
   "metadata": {},
   "outputs": [
    {
     "name": "stdout",
     "output_type": "stream",
     "text": [
      "Blocking probability:  [0.1228 0.     0.     0.     0.     0.     0.     0.     0.     0.    ]\n"
     ]
    }
   ],
   "source": [
    "# a) Constant service time\n",
    "arrival_intervals = np.random.exponential(1/lam, total_customers)\n",
    "arrival_times = np.cumsum(arrival_intervals)\n",
    "event_list = [Customer(arrival_time, s) for arrival_time in arrival_times]\n",
    "blocked_constant = main_loop(event_list, m)\n",
    "print(\"Blocking probability: \", blocked_constant/total_customers)"
   ]
  },
  {
   "cell_type": "code",
   "execution_count": 150,
   "metadata": {},
   "outputs": [
    {
     "name": "stdout",
     "output_type": "stream",
     "text": [
      "Blocking probability for k= 1.05:  [0.0519 0.     0.     0.     0.     0.     0.     0.     0.     0.    ]\n",
      "Blocking probability for k= 2.05:  [0. 0. 0. 0. 0. 0. 0. 0. 0. 0.]\n"
     ]
    }
   ],
   "source": [
    "# Pareto distributed service times with at least k = 1.05 and\n",
    "#k = 2.05.\n",
    "\n",
    "k = 1.05 \n",
    "event_list = [Customer(arrival_time, np.random.pareto(k)) for arrival_time in arrival_times]\n",
    "blocked_pareto_1 = main_loop(event_list, m)\n",
    "print(\"Blocking probability for k= 1.05: \", blocked_pareto_1/total_customers)\n",
    "k = 2.05\n",
    "event_list = [Customer(arrival_time, np.random.pareto(k)) for arrival_time in arrival_times]\n",
    "blocked_pareto_2 = main_loop(event_list, m)\n",
    "print(\"Blocking probability for k= 2.05: \", blocked_pareto_2/total_customers)"
   ]
  },
  {
   "cell_type": "code",
   "execution_count": 151,
   "metadata": {},
   "outputs": [
    {
     "name": "stdout",
     "output_type": "stream",
     "text": [
      "Blocking probability:  [0.1242 0.     0.     0.     0.     0.     0.     0.     0.     0.    ]\n"
     ]
    }
   ],
   "source": [
    "#absolute gaussian distributed service times with mean s and standard deviation s/4 #99%+ of the values are positive\n",
    "event_list = [Customer(arrival_time, np.random.normal(s, s/4)) for arrival_time in arrival_times]\n",
    "blocked = main_loop(event_list, m)\n",
    "print(\"Blocking probability: \", blocked/total_customers)"
   ]
  }
 ],
 "metadata": {
  "kernelspec": {
   "display_name": "Python 3",
   "language": "python",
   "name": "python3"
  },
  "language_info": {
   "codemirror_mode": {
    "name": "ipython",
    "version": 3
   },
   "file_extension": ".py",
   "mimetype": "text/x-python",
   "name": "python",
   "nbconvert_exporter": "python",
   "pygments_lexer": "ipython3",
   "version": "3.11.9"
  }
 },
 "nbformat": 4,
 "nbformat_minor": 2
}
