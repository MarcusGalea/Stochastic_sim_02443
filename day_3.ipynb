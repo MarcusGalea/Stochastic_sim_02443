{
 "cells": [
  {
   "cell_type": "markdown",
   "metadata": {},
   "source": [
    "# Exercise 4\n",
    "Write a discrete event simulation program for a blocking system,\n",
    "i.e. a system with m service units and no waiting room. The offered\n",
    "traffic A is the product of the mean arrival rate and the mean\n",
    "service time\n",
    "## 1\n",
    "The arrival process is modelled as a Poisson process. Report the\n",
    "fraction of blocked customers, and a confidence interval for this\n",
    "fraction. Choose the service time distribution as exponential.\n",
    "Parameters: m = 10, mean service time = 8 time units, mean\n",
    "time between customers = 1 time unit (corresponding to an\n",
    "offered traffic of 8 Erlang), 10 x 10.000 customers.\n"
   ]
  },
  {
   "cell_type": "code",
   "execution_count": 1,
   "metadata": {},
   "outputs": [],
   "source": [
    "import numpy as np\n",
    "#import poission\n",
    "import math\n",
    "from scipy.stats import poisson\n",
    "#import exponential\n",
    "from scipy.stats import expon\n",
    "import bisect"
   ]
  },
  {
   "cell_type": "code",
   "execution_count": 2,
   "metadata": {},
   "outputs": [],
   "source": [
    "m = 10 #number of servers\n",
    "s = 8 #mean service time\n",
    "lam = 1#arrival_intensity\n",
    "total_customers =10000 #10*10000\n",
    "A = lam*s"
   ]
  },
  {
   "cell_type": "code",
   "execution_count": 11,
   "metadata": {},
   "outputs": [],
   "source": [
    "class Customer:\n",
    "    def __init__(self, arrival_time, service_time):\n",
    "        self.service_time = service_time\n",
    "        self.blocked = False\n",
    "        \n",
    "        self.event = \"arrival\"\n",
    "        self.event_time = arrival_time\n",
    "      \n",
    "                \n",
    "    def arrive(self, servers, event_list):\n",
    "        if servers < 1:\n",
    "            self.blocked = True\n",
    "            return servers\n",
    "        else:\n",
    "            servers -= 1\n",
    "            servers = max(servers, 0)\n",
    "            self.event = \"departure\"\n",
    "            self.event_time += self.service_time\n",
    "            bisect.insort(event_list, self, key=lambda x: x.event_time)\n",
    "            return servers\n",
    "    \n",
    "    def depart(self, servers):\n",
    "        servers += 1\n",
    "        servers = min(servers, m)\n",
    "        return servers"
   ]
  },
  {
   "cell_type": "code",
   "execution_count": 12,
   "metadata": {},
   "outputs": [],
   "source": [
    "#arrival time differences are exponentially distributed\n",
    "arrival_interval = lambda : np.random.exponential(1/lam, size = total_customers)\n",
    "service_time =lambda : expon.rvs(scale = s, size = total_customers)"
   ]
  },
  {
   "cell_type": "code",
   "execution_count": 13,
   "metadata": {},
   "outputs": [],
   "source": [
    "\n",
    "def main_loop(arrival_interval, service_time, m, repititions = 10):\n",
    "    blocked = np.zeros(repititions)\n",
    "    for i in range(repititions):\n",
    "        arrival_intervals = arrival_interval()\n",
    "        service_times = service_time()\n",
    "        arrival_times = np.cumsum(arrival_intervals)\n",
    "        event_list = [Customer(arrival_times[i],service_times[i]) for i in range(len(arrival_times))]\n",
    "        event_list.sort(key=lambda x: x.event_time)\n",
    "        open_servers = m\n",
    "        while event_list:\n",
    "            event = event_list.pop(0)\n",
    "            if event.event == \"arrival\":\n",
    "                open_servers = event.arrive(open_servers, event_list)\n",
    "                blocked[i] += event.blocked\n",
    "            elif event.event == \"departure\":\n",
    "                open_servers = event.depart(open_servers)\n",
    "    return blocked\n",
    "\n",
    "blocked_1 = main_loop(arrival_interval, service_time, m)"
   ]
  },
  {
   "cell_type": "code",
   "execution_count": 14,
   "metadata": {},
   "outputs": [
    {
     "name": "stdout",
     "output_type": "stream",
     "text": [
      "Blocking probability:  [0.1175 0.1232 0.1265 0.1243 0.1225 0.1124 0.124  0.1241 0.1185 0.118 ]\n"
     ]
    }
   ],
   "source": [
    "print(\"Blocking probability: \", blocked_1/total_customers)"
   ]
  },
  {
   "cell_type": "code",
   "execution_count": 15,
   "metadata": {},
   "outputs": [],
   "source": [
    "#Erlang B formula\n",
    "def erlang_b(m, A):\n",
    "    return (A**m/math.factorial(m))/np.sum([A**i/math.factorial(i) for i in range(m+1)])"
   ]
  },
  {
   "cell_type": "code",
   "execution_count": 16,
   "metadata": {},
   "outputs": [
    {
     "name": "stdout",
     "output_type": "stream",
     "text": [
      "0.12166106425295149\n"
     ]
    }
   ],
   "source": [
    "#Theoretical blocking probability\n",
    "print(erlang_b(m, A))"
   ]
  },
  {
   "cell_type": "markdown",
   "metadata": {},
   "source": [
    "## 2\n",
    "The arrival process is modelled as a renewal process using the\n",
    "same parameters as in Part 1 when possible. Report the\n",
    "fraction of blocked customers, and a confidence interval for this\n",
    "fraction for at least the following two cases"
   ]
  },
  {
   "cell_type": "code",
   "execution_count": 17,
   "metadata": {},
   "outputs": [
    {
     "name": "stdout",
     "output_type": "stream",
     "text": [
      "Blocking probability:  [0.0686 0.071  0.0644 0.0671 0.071  0.0711 0.0663 0.0713 0.0708 0.0619]\n"
     ]
    }
   ],
   "source": [
    "# (a) Experiment with Erlang distributed inter arrival times The\n",
    "#Erlang distribution should have a mean of 1\n",
    "arrival_interval = lambda : np.random.gamma(m, 1/m, size = total_customers)\n",
    "service_time = lambda : expon.rvs(scale = s, size = total_customers)\n",
    "blocked_erlang = main_loop(arrival_interval, service_time, m)\n",
    "print(\"Blocking probability: \", blocked_erlang/total_customers)"
   ]
  },
  {
   "cell_type": "code",
   "execution_count": 19,
   "metadata": {},
   "outputs": [
    {
     "name": "stdout",
     "output_type": "stream",
     "text": [
      "Blocking probability:  [0.     0.0716 0.6379 0.7971 0.421  0.6187 0.3936 0.0014 0.7009 0.    ]\n"
     ]
    }
   ],
   "source": [
    "# hyper exponential inter arrival times. The parameters for\n",
    "#the hyper exponential distribution should be\n",
    "p1 = 0.8\n",
    "λ1 = 0.8333\n",
    "p2 = 0.2\n",
    "λ2 = 5.0\n",
    "arrival_interval = lambda : np.random.choice([expon.rvs(scale = 1/λ1), expon.rvs(scale = 1/λ2)], total_customers, p=[p1, p2])\n",
    "\n",
    "service_time = lambda : expon.rvs(scale = s, size = total_customers)\n",
    "\n",
    "blocked_hyperexp = main_loop(arrival_interval,service_time, m)\n",
    "print(\"Blocking probability: \", blocked_hyperexp/total_customers)\n"
   ]
  },
  {
   "cell_type": "markdown",
   "metadata": {},
   "source": [
    "## 3\n",
    "The arrival process is again a Poisson process like in Part 1.\n",
    "Experiment with different service time distributions with the\n",
    "same mean service time and m as in Part 1 and Part 2"
   ]
  },
  {
   "cell_type": "code",
   "execution_count": 22,
   "metadata": {},
   "outputs": [
    {
     "name": "stdout",
     "output_type": "stream",
     "text": [
      "Blocking probability:  [0.1227 0.1208 0.1208 0.1242 0.1227 0.1197 0.1259 0.1197 0.1317 0.1243]\n"
     ]
    }
   ],
   "source": [
    "# a) Constant service time\n",
    "arrival_interval = lambda : np.random.exponential(1/lam, size = total_customers)\n",
    "service_time = lambda : s*np.ones(total_customers)\n",
    "\n",
    "blocked_constant = main_loop(arrival_interval,service_time, m)\n",
    "print(\"Blocking probability: \", blocked_constant/total_customers)"
   ]
  },
  {
   "cell_type": "code",
   "execution_count": 24,
   "metadata": {},
   "outputs": [
    {
     "name": "stdout",
     "output_type": "stream",
     "text": [
      "Blocking probability for k= 1.05:  [0.0338 0.0439 0.0501 0.0592 0.0396 0.1177 0.0548 0.0423 0.0196 0.1138]\n",
      "Blocking probability for k= 2.05:  [0. 0. 0. 0. 0. 0. 0. 0. 0. 0.]\n"
     ]
    }
   ],
   "source": [
    "# Pareto distributed service times with at least k = 1.05 and\n",
    "#k = 2.05.\n",
    "\n",
    "k = 1.05 \n",
    "service_time = lambda : np.random.pareto(k, total_customers)\n",
    "blocked_pareto_1 = main_loop(arrival_interval, service_time, m)\n",
    "print(\"Blocking probability for k= 1.05: \", blocked_pareto_1/total_customers)\n",
    "k = 2.05\n",
    "service_time = lambda : np.random.pareto(k, total_customers)\n",
    "blocked_pareto_2 = main_loop(arrival_interval, service_time, m)\n",
    "print(\"Blocking probability for k= 2.05: \", blocked_pareto_2/total_customers)"
   ]
  },
  {
   "cell_type": "code",
   "execution_count": 28,
   "metadata": {},
   "outputs": [
    {
     "name": "stdout",
     "output_type": "stream",
     "text": [
      "Blocking probability:  [0.1269 0.1274 0.1201 0.1214 0.1138 0.1175 0.1311 0.1189 0.1312 0.1201]\n"
     ]
    }
   ],
   "source": [
    "#absolute gaussian distributed service times with mean s and standard deviation s/4 #99%+ of the values are positive\n",
    "service_time = lambda : np.random.normal(s, s/4, size = total_customers)\n",
    "blocked_gauss = main_loop(arrival_interval, service_time, m)\n",
    "print(\"Blocking probability: \", blocked_gauss/total_customers)"
   ]
  },
  {
   "cell_type": "markdown",
   "metadata": {},
   "source": [
    "## 4\n",
    "Compare confidence intervals for Parts 1, 2, and 3 then\n",
    "interpret and explain differences if any."
   ]
  },
  {
   "cell_type": "code",
   "execution_count": null,
   "metadata": {},
   "outputs": [],
   "source": [
    "def confidence_intervals(samples):\n",
    "    emp_mean = np.mean(samples)\n",
    "    emp_std = np.std(samples)\n",
    "    t = 1.96\n",
    "    return (emp_mean - t*emp_std/np.sqrt(len(samples)), emp_mean + t*emp_std/np.sqrt(len(samples)))\n",
    "\n",
    "#show confidence intervals for all the experiments\n",
    "print(\"Confidence intervals for blocking probability\")\n",
    "print(\"Part 1: \", confidence_intervals(blocked_1))"
   ]
  }
 ],
 "metadata": {
  "kernelspec": {
   "display_name": "Python 3",
   "language": "python",
   "name": "python3"
  },
  "language_info": {
   "codemirror_mode": {
    "name": "ipython",
    "version": 3
   },
   "file_extension": ".py",
   "mimetype": "text/x-python",
   "name": "python",
   "nbconvert_exporter": "python",
   "pygments_lexer": "ipython3",
   "version": "3.11.9"
  }
 },
 "nbformat": 4,
 "nbformat_minor": 2
}
